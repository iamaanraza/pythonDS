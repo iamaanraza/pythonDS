{
 "cells": [
  {
   "cell_type": "markdown",
   "metadata": {},
   "source": [
    "   list             tuple                   set                      dict.\n",
    "1. ordered          - ordered              - unordered              - ordered\n",
    "2. indexed          - indexed              - unindexed              - unindexed\n",
    "3. mutable          - immutable            - mutable                - mutable \n",
    "4. duplicate values - duplicate            - unique                 - unique keys and dupicate values\n",
    "5. values only      - values only          - values only            - key value pair \n",
    "6. [] list()        - () tuple()           - {} set()               - {} dict()"
   ]
  },
  {
   "cell_type": "markdown",
   "metadata": {},
   "source": [
    "# list \n",
    " - create \n",
    " - indexing and slicing \n",
    " - traversing \n",
    " - manipulative"
   ]
  },
  {
   "cell_type": "code",
   "execution_count": 13,
   "metadata": {},
   "outputs": [
    {
     "name": "stdout",
     "output_type": "stream",
     "text": [
      "[]\n"
     ]
    }
   ],
   "source": [
    "a = [] # empty list \n",
    "print(a)"
   ]
  },
  {
   "cell_type": "code",
   "execution_count": 6,
   "metadata": {},
   "outputs": [
    {
     "name": "stdout",
     "output_type": "stream",
     "text": [
      "[1, 2, 3]\n",
      "['alpha', 'beta', 'gamma']\n",
      "['arun', 100, 'varun', 150, 'tarun', 200]\n",
      "[[1, 2, 3], [2, 3, 4, 5]]\n",
      "[[1, 2, 3], [1, 2, 3], [1, 2, 3], [1, 2, 3]]\n",
      "[[1, 2, 3], [1, 2, 3], [1, 2, 3], [1, 2, 3]]\n",
      "[2, 2, 2, 2, 2, 2, 2, 2, 2, 2]\n",
      "[[1, 2, 3], [1, 2, 3], [1, 2, 3], [1, 2, 3]]\n",
      "[5, 3, 4, 5, 3, 4, 5, 3, 4, 5, 3, 4, 5, 3, 4]\n"
     ]
    }
   ],
   "source": [
    "b = [1,2,3] # number list \n",
    "c = ['alpha','beta','gamma'] # string list \n",
    "d = ['arun',100, 'varun', 150, 'tarun',200] # mixed datatype \n",
    "e = [[1,2,3],[2,3,4,5]] # nested list \n",
    "f = [1,2,3]\n",
    "g = [f,f,f,f] # list of list\n",
    "h = [2] * 10 # list multiplication\n",
    "print(b)\n",
    "print(c)\n",
    "print(d)\n",
    "print(e)\n",
    "print(g)\n",
    "print(g)\n",
    "print(h)\n",
    "print(g)\n",
    "i = [5,3,4]*5\n",
    "print(i) "
   ]
  },
  {
   "cell_type": "code",
   "execution_count": 7,
   "metadata": {},
   "outputs": [
    {
     "name": "stdout",
     "output_type": "stream",
     "text": [
      "1\n",
      "3\n"
     ]
    }
   ],
   "source": [
    "print(b[0]) # first to find index in string\n",
    "print(b[2]) # second"
   ]
  },
  {
   "cell_type": "code",
   "execution_count": 11,
   "metadata": {},
   "outputs": [
    {
     "name": "stdout",
     "output_type": "stream",
     "text": [
      "first three [2, 4, 6]\n",
      "last three [6, 3, 2]\n",
      "all content except first 2 and last 2 [6, 8, 9]\n",
      "reverse [2, 3, 6, 9, 8, 6, 4, 2]\n",
      "even index item [2, 6, 9, 3]\n",
      "odd index item [2, 8, 3]\n"
     ]
    }
   ],
   "source": [
    "nums = [2,4,6,8,9,6,3,2]\n",
    "print('first three',nums[:3])\n",
    "print('last three',nums[-3:])\n",
    "print('all content except first 2 and last 2',nums[2:5])\n",
    "print('reverse',nums[::-1])\n",
    "print('even index item', nums[::2])\n",
    "print('odd index item', nums[::3])"
   ]
  },
  {
   "cell_type": "code",
   "execution_count": 12,
   "metadata": {},
   "outputs": [
    {
     "name": "stdout",
     "output_type": "stream",
     "text": [
      "[120, 4, 6, 8, 9, 6, 3, 2]\n",
      "[120, 4, 6, 8, 9, 6, 3, 20]\n"
     ]
    }
   ],
   "source": [
    "nums[0]= 120 # change value \n",
    "print(nums)\n",
    "nums[-1]= 20\n",
    "print(nums)"
   ]
  },
  {
   "cell_type": "code",
   "execution_count": 15,
   "metadata": {},
   "outputs": [
    {
     "name": "stdout",
     "output_type": "stream",
     "text": [
      "arun 100 varun 150 tarun 200 "
     ]
    }
   ],
   "source": [
    "for i in d:\n",
    "    print(i,end=' ')"
   ]
  },
  {
   "cell_type": "code",
   "execution_count": 19,
   "metadata": {},
   "outputs": [
    {
     "name": "stdout",
     "output_type": "stream",
     "text": [
      "arun  is string\n",
      "100 is integer\n",
      "varun  is string\n",
      "150 is integer\n",
      "tarun  is string\n",
      "200 is integer\n"
     ]
    }
   ],
   "source": [
    "for i in d:\n",
    "    if isinstance(i,str):\n",
    "        print(i,' is string')\n",
    "    elif isinstance(i, int):\n",
    "        print(i,'is integer')\n",
    "    else:\n",
    "        print(i,'is unknown')        "
   ]
  },
  {
   "cell_type": "markdown",
   "metadata": {},
   "source": [
    "list methods\n",
    "- adding \n",
    "   - append()\n",
    "   - insert()\n",
    "   - extend()\n",
    "\n",
    "- remove \n",
    "   - remove() # find the value and remove \n",
    "   - pop() # find the index and \n",
    "   - clear()\n",
    "\n",
    "- manipulate \n",
    "   - count()\n",
    "   - sort()\n",
    "   - reverse()\n",
    "   - copy()\n",
    "   - index()      \n",
    "   "
   ]
  },
  {
   "cell_type": "code",
   "execution_count": 38,
   "metadata": {},
   "outputs": [
    {
     "name": "stdout",
     "output_type": "stream",
     "text": [
      "['red', 'orange', 'pink']\n"
     ]
    }
   ],
   "source": [
    "colors = [] # only can adding 1 values at a time \n",
    "colors.append('red')\n",
    "colors.append('orange')\n",
    "colors.append('pink')\n",
    "print(colors)"
   ]
  },
  {
   "cell_type": "code",
   "execution_count": 39,
   "metadata": {},
   "outputs": [],
   "source": [
    "colors.append('brown')\n",
    "colors.append('blue')\n",
    "colors.append('black')"
   ]
  },
  {
   "cell_type": "code",
   "execution_count": 23,
   "metadata": {},
   "outputs": [
    {
     "data": {
      "text/plain": [
       "['red', 'orange', 'pink', 'brown', 'blue', 'black']"
      ]
     },
     "execution_count": 23,
     "metadata": {},
     "output_type": "execute_result"
    }
   ],
   "source": [
    "colors "
   ]
  },
  {
   "cell_type": "code",
   "execution_count": 24,
   "metadata": {},
   "outputs": [
    {
     "data": {
      "text/plain": [
       "[[1, 2, 3], [2, 3, 4, 5], [1, 3, 4]]"
      ]
     },
     "execution_count": 24,
     "metadata": {},
     "output_type": "execute_result"
    }
   ],
   "source": [
    "e.append([1,3,4])\n",
    "e"
   ]
  },
  {
   "cell_type": "code",
   "execution_count": 30,
   "metadata": {},
   "outputs": [
    {
     "data": {
      "text/plain": [
       "[[1, 2, 3, 5, 5, 5], [2, 3, 4, 5], [1, 3, 4]]"
      ]
     },
     "execution_count": 30,
     "metadata": {},
     "output_type": "execute_result"
    }
   ],
   "source": [
    "e[0].append(5)\n",
    "e\n",
    "\n"
   ]
  },
  {
   "cell_type": "code",
   "execution_count": 27,
   "metadata": {},
   "outputs": [
    {
     "data": {
      "text/plain": [
       "['red', 'orange', 'green', 'pink', 'brown', 'blue', 'black']"
      ]
     },
     "execution_count": 27,
     "metadata": {},
     "output_type": "execute_result"
    }
   ],
   "source": [
    "colors.insert(2, 'green') #insert\n",
    "colors "
   ]
  },
  {
   "cell_type": "code",
   "execution_count": 31,
   "metadata": {},
   "outputs": [
    {
     "data": {
      "text/plain": [
       "['white', 'red', 'orange', 'green', 'pink', 'brown', 'blue', 'black']"
      ]
     },
     "execution_count": 31,
     "metadata": {},
     "output_type": "execute_result"
    }
   ],
   "source": [
    "colors.insert(0,'white')\n",
    "colors"
   ]
  },
  {
   "cell_type": "code",
   "execution_count": 33,
   "metadata": {},
   "outputs": [
    {
     "name": "stdout",
     "output_type": "stream",
     "text": [
      "[1, 2, 3, 4, 5, 6, 7, 8, 9, 2, 3, 4, 5]\n",
      "[1, 2, 3, 4, 5, 6, 7, 8, 9, 2, 3, 4, 5, [2, 3, 4, 5]]\n"
     ]
    }
   ],
   "source": [
    "x = [1,2,3,4,5,6,7,8,9,] # extend   \n",
    "y = [2,3,4,5]\n",
    "x.extend(y)\n",
    "print(x)\n",
    "x.append(y)\n",
    "print(x)"
   ]
  },
  {
   "cell_type": "code",
   "execution_count": 34,
   "metadata": {},
   "outputs": [
    {
     "data": {
      "text/plain": [
       "['white', 'red', 'orange', 'pink', 'brown', 'blue', 'black']"
      ]
     },
     "execution_count": 34,
     "metadata": {},
     "output_type": "execute_result"
    }
   ],
   "source": [
    "colors.remove('green')\n",
    "colors"
   ]
  },
  {
   "cell_type": "code",
   "execution_count": 41,
   "metadata": {},
   "outputs": [
    {
     "data": {
      "text/plain": [
       "'pink'"
      ]
     },
     "execution_count": 41,
     "metadata": {},
     "output_type": "execute_result"
    }
   ],
   "source": [
    "colors.pop(2)"
   ]
  },
  {
   "cell_type": "code",
   "execution_count": 42,
   "metadata": {},
   "outputs": [
    {
     "data": {
      "text/plain": [
       "['red', 'orange', 'brown', 'blue', 'black']"
      ]
     },
     "execution_count": 42,
     "metadata": {},
     "output_type": "execute_result"
    }
   ],
   "source": [
    "colors"
   ]
  },
  {
   "cell_type": "code",
   "execution_count": 43,
   "metadata": {},
   "outputs": [
    {
     "data": {
      "text/plain": [
       "'black'"
      ]
     },
     "execution_count": 43,
     "metadata": {},
     "output_type": "execute_result"
    }
   ],
   "source": [
    "colors.pop()  # remove last item "
   ]
  },
  {
   "cell_type": "code",
   "execution_count": 44,
   "metadata": {},
   "outputs": [
    {
     "name": "stdout",
     "output_type": "stream",
     "text": [
      "2\n",
      "2\n",
      "2\n"
     ]
    }
   ],
   "source": [
    "x = [1,2,3,4,5,6,1,2,3,4]\n",
    "print(x.count(1))\n",
    "print(x.count(2))\n",
    "print(x.count(3))\n",
    "\n"
   ]
  },
  {
   "cell_type": "code",
   "execution_count": 45,
   "metadata": {},
   "outputs": [
    {
     "name": "stdout",
     "output_type": "stream",
     "text": [
      "[[0, 10], [1, 2], [2, 4], [3, 1]]\n",
      "[[3, 1], [1, 2], [2, 4], [0, 10]]\n"
     ]
    }
   ],
   "source": [
    "# out of content rn lambda\n",
    "a = [[1,2],[2,4],[3,1],[0,10]]\n",
    "a.sort()\n",
    "print(a)\n",
    "a.sort(key=lambda i:i[1])\n",
    "print(a)"
   ]
  },
  {
   "cell_type": "code",
   "execution_count": 47,
   "metadata": {},
   "outputs": [
    {
     "name": "stdout",
     "output_type": "stream",
     "text": [
      "[1, 2, 3, 3, 4, 4, 5, 5, 6]\n",
      "[6, 5, 5, 4, 4, 3, 3, 2, 1]\n"
     ]
    }
   ],
   "source": [
    "x = [1,2,3,4,5,6,5,4,3]\n",
    "x.sort()\n",
    "print(x)\n",
    "x.sort(reverse=True) # descending order \n",
    "print(x)"
   ]
  },
  {
   "cell_type": "code",
   "execution_count": 48,
   "metadata": {},
   "outputs": [
    {
     "name": "stdout",
     "output_type": "stream",
     "text": [
      "[3, 4, 5, 6, 5, 4, 3, 2, 1]\n"
     ]
    }
   ],
   "source": [
    "x = [1,2,3,4,5,6,5,4,3]\n",
    "x.reverse()\n",
    "print(x)"
   ]
  },
  {
   "cell_type": "code",
   "execution_count": 51,
   "metadata": {},
   "outputs": [
    {
     "data": {
      "text/plain": [
       "0"
      ]
     },
     "execution_count": 51,
     "metadata": {},
     "output_type": "execute_result"
    }
   ],
   "source": [
    "colors.index('red')\n"
   ]
  },
  {
   "cell_type": "code",
   "execution_count": 1,
   "metadata": {},
   "outputs": [
    {
     "name": "stdout",
     "output_type": "stream",
     "text": [
      "[1, 2, 3]\n"
     ]
    }
   ],
   "source": [
    "# copy()\n",
    "\n",
    "x = [1,2,3]\n",
    "print(x)\n",
    "\n",
    " "
   ]
  },
  {
   "cell_type": "code",
   "execution_count": 2,
   "metadata": {},
   "outputs": [
    {
     "name": "stdout",
     "output_type": "stream",
     "text": [
      "[1, 2, 3, 4]\n",
      "[1, 2, 3, 4]\n"
     ]
    }
   ],
   "source": [
    "y = x    # shallow copy (reference)(stores at same memory location)\n",
    "y.append(4)\n",
    "print(x)\n",
    "print(y)"
   ]
  },
  {
   "cell_type": "code",
   "execution_count": 3,
   "metadata": {},
   "outputs": [
    {
     "name": "stdout",
     "output_type": "stream",
     "text": [
      "[2, 3, 4]\n",
      "[2, 3, 4]\n",
      "[1, 2, 3, 4, 4]\n"
     ]
    }
   ],
   "source": [
    "z = x.copy() # deep copy (value)(stores at diiferent memory location)\n",
    "z.append(4)\n",
    "y.remove(1)\n",
    "print(x)\n",
    "print(y)\n",
    "print(z)"
   ]
  },
  {
   "cell_type": "code",
   "execution_count": null,
   "metadata": {},
   "outputs": [],
   "source": []
  }
 ],
 "metadata": {
  "kernelspec": {
   "display_name": "base",
   "language": "python",
   "name": "python3"
  },
  "language_info": {
   "codemirror_mode": {
    "name": "ipython",
    "version": 3
   },
   "file_extension": ".py",
   "mimetype": "text/x-python",
   "name": "python",
   "nbconvert_exporter": "python",
   "pygments_lexer": "ipython3",
   "version": "3.11.4"
  }
 },
 "nbformat": 4,
 "nbformat_minor": 2
}
