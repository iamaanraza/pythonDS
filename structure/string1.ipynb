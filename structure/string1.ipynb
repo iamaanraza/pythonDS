{
 "cells": [
  {
   "cell_type": "markdown",
   "metadata": {},
   "source": [
    "- indexing\n",
    "- slicing\n",
    "- nethods\n",
    "- operations\n"
   ]
  },
  {
   "cell_type": "code",
   "execution_count": 1,
   "metadata": {},
   "outputs": [],
   "source": [
    "name=\"Amaan\""
   ]
  },
  {
   "cell_type": "code",
   "execution_count": 2,
   "metadata": {},
   "outputs": [
    {
     "name": "stdout",
     "output_type": "stream",
     "text": [
      "A\n",
      "m\n",
      "a n m\n"
     ]
    }
   ],
   "source": [
    "print(name[0])\n",
    "print(name[1])\n",
    "print(name[3],name[-1],name[-4])"
   ]
  },
  {
   "cell_type": "code",
   "execution_count": 3,
   "metadata": {},
   "outputs": [
    {
     "name": "stdout",
     "output_type": "stream",
     "text": [
      "vi j a y\n"
     ]
    }
   ],
   "source": [
    "name = '''vijay deenanath chauhan'''\n",
    "print(name[0]+name[1],name[2],name[3],name[4])"
   ]
  },
  {
   "cell_type": "code",
   "execution_count": 4,
   "metadata": {},
   "outputs": [
    {
     "name": "stdout",
     "output_type": "stream",
     "text": [
      "vijay\n"
     ]
    }
   ],
   "source": [
    "name = \"vijay deenanath chauhan\"\n",
    "print(name[0:5])\n"
   ]
  },
  {
   "cell_type": "code",
   "execution_count": 5,
   "metadata": {},
   "outputs": [
    {
     "name": "stdout",
     "output_type": "stream",
     "text": [
      "vijay\n",
      "y\n"
     ]
    }
   ],
   "source": [
    "name = \"vijay deenanath chauhan\"\n",
    "print(name[:5])## starts from 0 to till 5\n",
    "print(name[4])# sirf 4 ki value dega\n"
   ]
  },
  {
   "cell_type": "code",
   "execution_count": 6,
   "metadata": {},
   "outputs": [
    {
     "name": "stdout",
     "output_type": "stream",
     "text": [
      "vijay\n",
      "y\n",
      "deenanath chauhan\n",
      "c\n",
      "han\n",
      "deenanath\n",
      "deenanath\n",
      "htananeed\n",
      "nahuahc htananeed yajiv\n",
      "vijay deenanath chauhan\n",
      "vjydeaahcahn\n",
      "ia ennt hua\n"
     ]
    }
   ],
   "source": [
    "name = \"vijay deenanath chauhan\"\n",
    "print(name[:5])## starts from 0 to till 5\n",
    "print(name[4])\n",
    "print(name[6:])##till end\n",
    "print(name[-7])## till end\n",
    "print(name[-3:])\n",
    "print(name[6:-8])\n",
    "print(name[6:6+9])## 9 letters for deenanath\n",
    "print(name[-9:5:-1]) ## reverse print hoga\n",
    "\n",
    "print(name[::-1])## suru se last tk pura read karega \n",
    "print(name[::1])\n",
    "print(name[::2])## alternate even index\n",
    "print(name[1::2])## alternate odd index"
   ]
  },
  {
   "cell_type": "code",
   "execution_count": 7,
   "metadata": {},
   "outputs": [
    {
     "name": "stdout",
     "output_type": "stream",
     "text": [
      "william \n",
      "shake\n",
      "are\n",
      "peare\n",
      "liam\n"
     ]
    }
   ],
   "source": [
    "name = \"william shakespeare\"\n",
    "print(name[0:8])\n",
    "print(name[8:13])\n",
    "print(name[-3:])\n",
    "print(name[-5:])\n",
    "print(name[3:7])"
   ]
  },
  {
   "cell_type": "markdown",
   "metadata": {},
   "source": [
    "- methods in string\n",
    "# formatting\n",
    "    - upper()\n",
    "    -lower()\n",
    "    -capatalization()\n",
    "\n",
    "\n",
    "# validation\n",
    "    - isupper()\n",
    "    - islower()\n",
    "    - endswitch()\n",
    "# utility\n",
    "    - replace()\n",
    "    -find()\n",
    "    -count()"
   ]
  },
  {
   "cell_type": "code",
   "execution_count": 8,
   "metadata": {},
   "outputs": [
    {
     "data": {
      "text/plain": [
       "'WILLIAM SHAKESPEARE'"
      ]
     },
     "execution_count": 8,
     "metadata": {},
     "output_type": "execute_result"
    }
   ],
   "source": [
    "name.upper()"
   ]
  },
  {
   "cell_type": "code",
   "execution_count": 9,
   "metadata": {},
   "outputs": [
    {
     "name": "stdout",
     "output_type": "stream",
     "text": [
      "william shakespeare\n",
      "WILLIAM SHAKESPEARE\n"
     ]
    }
   ],
   "source": [
    "nameU = name.upper()\n",
    "print(name)\n",
    "print(nameU)"
   ]
  },
  {
   "cell_type": "code",
   "execution_count": 10,
   "metadata": {},
   "outputs": [
    {
     "name": "stdout",
     "output_type": "stream",
     "text": [
      "vijay deenanath chauhan\n",
      "vijay deenanath chauhan\n",
      "Vijay deenanath chauhan\n",
      "Vijay Deenanath Chauhan\n",
      "VIJAY DEENANATH CHAUHAN\n",
      "vijay deenanath chauhan\n"
     ]
    }
   ],
   "source": [
    "name= 'vijay deenanath chauhan'\n",
    "print(name)\n",
    "print(name.lower())\n",
    "print(name.capitalize())\n",
    "print(name.title())\n",
    "print(name.swapcase())\n",
    "print(name.casefold())## same as lower"
   ]
  },
  {
   "cell_type": "code",
   "execution_count": 11,
   "metadata": {},
   "outputs": [
    {
     "name": "stdout",
     "output_type": "stream",
     "text": [
      "10 * 15.15 = 151.5\n",
      "10 * 15.15 = 151.5\n"
     ]
    }
   ],
   "source": [
    "x=10\n",
    "y=15.15\n",
    "z=x*y\n",
    "##print(\"\".format())## iska koi use nhi hota\n",
    "print(\"{} * {} = {}\".format(x,y,z))\n",
    "print(f\"{x} * {y} = {z}\")"
   ]
  },
  {
   "cell_type": "code",
   "execution_count": 12,
   "metadata": {},
   "outputs": [
    {
     "name": "stdout",
     "output_type": "stream",
     "text": [
      "upper: False\n",
      "lower: True\n",
      "title: False\n",
      "alphabets: True\n",
      "alphabets+number: True\n",
      "numbers: False\n",
      "whitespaces: False\n",
      "ASCII: True\n"
     ]
    }
   ],
   "source": [
    "a=input(\"enter any value\")\n",
    "print(f'upper: {a.isupper()}') ## sare true hone chahiye words\n",
    "print(f'lower: {a.islower()}') ## sare true hone chahiye words\n",
    "print(f'title: {a.istitle()}') ## sare true hone chahiye words\n",
    "print(f'alphabets: {a.isalpha()}') ## sare true hone chahiye words\n",
    "print(f'alphabets+number: {a.isalnum()}') ## alpha.. ya no. me kuch bhi hoga to true de dega\n",
    "print(f'numbers: {a.isnumeric()}') \n",
    "print(f'whitespaces: {a.isspace()}') \n",
    "print(f'ASCII: {a.isascii()}') ## 255 characters ko store krta h emoji nhi ye emoji ko remove krne me kaam aata h"
   ]
  },
  {
   "cell_type": "code",
   "execution_count": 13,
   "metadata": {},
   "outputs": [
    {
     "name": "stdout",
     "output_type": "stream",
     "text": [
      "very good\n"
     ]
    }
   ],
   "source": [
    "num = input(\"enter a number:\")\n",
    "if num.isnumeric():   ## digit, float sare numeric ke liye hi use hoga\n",
    "    num=int(num)\n",
    "    print(\"very good\")      ## sirf digits ke liye use hota hai\n",
    "else:\n",
    "    print(\"enter no. only\")  ## its not work for float"
   ]
  },
  {
   "cell_type": "code",
   "execution_count": 14,
   "metadata": {},
   "outputs": [
    {
     "name": "stdout",
     "output_type": "stream",
     "text": [
      "True\n",
      "False\n",
      "False\n",
      "False\n",
      "True\n",
      "False\n",
      "True\n"
     ]
    }
   ],
   "source": [
    "x=\"hello world\"\n",
    "print(x.startswith('he'))\n",
    "print(x.startswith('the'))\n",
    "print(x.startswith(' he'))\n",
    "print(x.startswith('He'))\n",
    "\n",
    "print(x.endswith('world'))\n",
    "print(x.endswith('World'))\n",
    "print(x.endswith('ld'))"
   ]
  },
  {
   "cell_type": "code",
   "execution_count": 15,
   "metadata": {},
   "outputs": [
    {
     "name": "stdout",
     "output_type": "stream",
     "text": [
      "song.mp3\n",
      "song2.mp3\n"
     ]
    }
   ],
   "source": [
    "files=['song.mp3','song2.mp3','song3.png','song4.jpg']\n",
    "for x in files:\n",
    "    if x.endswith('.mp3'):\n",
    "        print(x)"
   ]
  },
  {
   "cell_type": "code",
   "execution_count": 16,
   "metadata": {},
   "outputs": [
    {
     "name": "stdout",
     "output_type": "stream",
     "text": [
      "nishu\n",
      "result not found\n"
     ]
    }
   ],
   "source": [
    "name =('nishu','rahul','ajay','divi','omkar','heer')\n",
    "for x in name:\n",
    "    if x.endswith('u'):\n",
    "\n",
    "        print(x)\n",
    "else:\n",
    "    print(\"result not found\")"
   ]
  },
  {
   "cell_type": "code",
   "execution_count": null,
   "metadata": {},
   "outputs": [],
   "source": []
  }
 ],
 "metadata": {
  "kernelspec": {
   "display_name": "base",
   "language": "python",
   "name": "python3"
  },
  "language_info": {
   "codemirror_mode": {
    "name": "ipython",
    "version": 3
   },
   "file_extension": ".py",
   "mimetype": "text/x-python",
   "name": "python",
   "nbconvert_exporter": "python",
   "pygments_lexer": "ipython3",
   "version": "3.11.4"
  }
 },
 "nbformat": 4,
 "nbformat_minor": 2
}
