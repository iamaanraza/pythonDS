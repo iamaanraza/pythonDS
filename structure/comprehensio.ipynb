{
 "cells": [
  {
   "cell_type": "markdown",
   "metadata": {},
   "source": [
    "Comprehension in Pyhton \n",
    "\n",
    "**single line code for generation an iterable from an existing iterable**\n",
    "- list comprehension\n",
    "- set comprehension\n",
    "- dictionary comprehension"
   ]
  },
  {
   "cell_type": "markdown",
   "metadata": {},
   "source": [
    "syntax 1:\n",
    "```python\n",
    "new_it = [opeerstion for item in existing_it]\n",
    "```\n",
    "syntax 2 :\n",
    "```python \n",
    "new_it = [operation for item in existing_it if condition]\n",
    "\n",
    "```\n"
   ]
  },
  {
   "cell_type": "code",
   "execution_count": 1,
   "metadata": {},
   "outputs": [
    {
     "name": "stdout",
     "output_type": "stream",
     "text": [
      "[1, 2, 3, 4]\n",
      "[1, 4, 9, 16]\n"
     ]
    }
   ],
   "source": [
    "a = [1,2,3,4]\n",
    "a2 = []\n",
    "for i in a:\n",
    "    s = i**2\n",
    "    a2.append(s)\n",
    "print(a)    \n",
    "print(a2)    "
   ]
  },
  {
   "cell_type": "code",
   "execution_count": 5,
   "metadata": {},
   "outputs": [
    {
     "name": "stdout",
     "output_type": "stream",
     "text": [
      "[1, 8, 27, 64]\n"
     ]
    }
   ],
   "source": [
    "a2=[i**3 for i in a]\n",
    "print(a2)"
   ]
  },
  {
   "cell_type": "code",
   "execution_count": 6,
   "metadata": {},
   "outputs": [
    {
     "name": "stdout",
     "output_type": "stream",
     "text": [
      "['alex', 'susan', 'tom', 'jerry']\n",
      "['al', 'su', 'to', 'je']\n"
     ]
    }
   ],
   "source": [
    "names = ['alex','susan','tom','jerry']\n",
    "shorts = []\n",
    "for name in names:\n",
    "    shorts.append(name[:2])\n",
    "print(names)    \n",
    "print(shorts)    "
   ]
  },
  {
   "cell_type": "code",
   "execution_count": 9,
   "metadata": {},
   "outputs": [
    {
     "name": "stdout",
     "output_type": "stream",
     "text": [
      "['alex', 'susan', 'tom', 'jerry']\n",
      "['al', 'su', 'to', 'je']\n"
     ]
    }
   ],
   "source": [
    "shorts = [name[:2]for name in names]\n",
    "print(names)\n",
    "print(shorts)"
   ]
  },
  {
   "cell_type": "code",
   "execution_count": 10,
   "metadata": {},
   "outputs": [
    {
     "name": "stdout",
     "output_type": "stream",
     "text": [
      "[12, 4, 1, 4, 5, 2, 5, 6]\n",
      "[2, -6, -9, -6, -5, -8, -5, -4]\n"
     ]
    }
   ],
   "source": [
    "numbers = [12,4,1,4,5,2,5,6]\n",
    "sub = [i-10 for i in numbers]\n",
    "print(numbers)\n",
    "print(sub)"
   ]
  },
  {
   "cell_type": "code",
   "execution_count": 12,
   "metadata": {},
   "outputs": [
    {
     "name": "stdout",
     "output_type": "stream",
     "text": [
      "[2, -6, -6, -8, -4]\n"
     ]
    }
   ],
   "source": [
    "numbers = [12,4,1,4,5,2,5,6]\n",
    "evens = [i-10 for i in numbers if i%2==0]\n",
    "print(evens)"
   ]
  },
  {
   "cell_type": "code",
   "execution_count": 14,
   "metadata": {},
   "outputs": [
    {
     "name": "stdout",
     "output_type": "stream",
     "text": [
      "['raman', 'sita', 'gita', 'hari', 'rahul', 'sohan']\n",
      "['sita', 'gita', 'hari']\n"
     ]
    }
   ],
   "source": [
    "guests = ['raman','sita','gita','hari','rahul','sohan']\n",
    "guests_i= [name for name in guests if 'i' in name.lower()]\n",
    "print(guests)\n",
    "print(guests_i)"
   ]
  },
  {
   "cell_type": "code",
   "execution_count": 17,
   "metadata": {},
   "outputs": [
    {
     "name": "stdout",
     "output_type": "stream",
     "text": [
      "{'A': 'APPLE', 'B': 'BANANA', 'C': 'CHERRY'}\n"
     ]
    }
   ],
   "source": [
    "# dict comprehension \n",
    "\n",
    "x = {'a':'apple','b':'banana','c':'cherry'}\n",
    "x2 = {k:v.upper() for k,v in x.items() }\n",
    "x2 = {k.upper():v.upper() for k,v in x.items() }\n",
    "print(x2)"
   ]
  },
  {
   "cell_type": "code",
   "execution_count": 19,
   "metadata": {},
   "outputs": [
    {
     "name": "stdout",
     "output_type": "stream",
     "text": [
      "[13, 3, 45, 6, 5, 75, 68, 34]\n",
      "{0: 13, 1: 3, 2: 45, 3: 6, 4: 5, 5: 75, 6: 68, 7: 34}\n"
     ]
    }
   ],
   "source": [
    "# list to dict \n",
    " \n",
    "x = [13,3,45,6,5,75,68,34]\n",
    "\n",
    "xd = {i:v for i,v in enumerate(x)}\n",
    "print(x)\n",
    "print(xd)"
   ]
  },
  {
   "cell_type": "code",
   "execution_count": 20,
   "metadata": {},
   "outputs": [
    {
     "name": "stdout",
     "output_type": "stream",
     "text": [
      "[13, 3, 45, 6, 5, 75, 68, 34]\n",
      "{'a': 13, 'b': 3, 'c': 45, 'd': 6, 'e': 5}\n"
     ]
    }
   ],
   "source": [
    "x = [13,3,45,6,5,75,68,34]\n",
    "y = ['a','b','c','d','e']\n",
    "xd = {i2:i1 for i1,i2 in zip(x,y)}\n",
    "print(x)\n",
    "print(xd)"
   ]
  },
  {
   "cell_type": "code",
   "execution_count": 21,
   "metadata": {},
   "outputs": [
    {
     "data": {
      "text/plain": [
       "[1, 4, 9]"
      ]
     },
     "execution_count": 21,
     "metadata": {},
     "output_type": "execute_result"
    }
   ],
   "source": [
    "x = (1,2,3)  # generator change into list , tuple.\n",
    "x2 = (i**2 for i in x)\n",
    "list(x2)"
   ]
  },
  {
   "cell_type": "code",
   "execution_count": 22,
   "metadata": {},
   "outputs": [
    {
     "data": {
      "text/plain": [
       "[1, 3, 5, 7, 9, 11, 13, 15, 17, 19]"
      ]
     },
     "execution_count": 22,
     "metadata": {},
     "output_type": "execute_result"
    }
   ],
   "source": [
    "list(range(1,20,2))"
   ]
  },
  {
   "cell_type": "code",
   "execution_count": null,
   "metadata": {},
   "outputs": [],
   "source": []
  }
 ],
 "metadata": {
  "kernelspec": {
   "display_name": "base",
   "language": "python",
   "name": "python3"
  },
  "language_info": {
   "codemirror_mode": {
    "name": "ipython",
    "version": 3
   },
   "file_extension": ".py",
   "mimetype": "text/x-python",
   "name": "python",
   "nbconvert_exporter": "python",
   "pygments_lexer": "ipython3",
   "version": "3.11.4"
  }
 },
 "nbformat": 4,
 "nbformat_minor": 2
}
