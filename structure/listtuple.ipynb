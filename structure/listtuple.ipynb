{
 "cells": [
  {
   "cell_type": "markdown",
   "metadata": {},
   "source": [
    "tuple \n",
    "python handles multipele values as tuple\n",
    "- create \n",
    "- tuple packing and unpacking "
   ]
  },
  {
   "cell_type": "code",
   "execution_count": 1,
   "metadata": {},
   "outputs": [
    {
     "name": "stdout",
     "output_type": "stream",
     "text": [
      "(1, 2, 3)\n",
      "(1, 5, 7)\n"
     ]
    }
   ],
   "source": [
    "x = (1,2,3) # tuple \n",
    "y = 1,5,7 # tuple \n",
    "print(x)\n",
    "print(y)"
   ]
  },
  {
   "cell_type": "code",
   "execution_count": 2,
   "metadata": {},
   "outputs": [
    {
     "name": "stdout",
     "output_type": "stream",
     "text": [
      "(0, 't')\n",
      "(1, 'u')\n",
      "(2, 'p')\n",
      "(3, 'l')\n",
      "(4, 'e')\n"
     ]
    }
   ],
   "source": [
    "word = 'tuple'\n",
    "for i in enumerate(word):\n",
    "    print(i)"
   ]
  },
  {
   "cell_type": "code",
   "execution_count": 3,
   "metadata": {},
   "outputs": [
    {
     "name": "stdout",
     "output_type": "stream",
     "text": [
      "4\n",
      "1\n",
      "6\n"
     ]
    }
   ],
   "source": [
    "x = (1,2,1,1,1,1,2,2,2)\n",
    "print(x.count(2))\n",
    "print(x.index(2)) # search for 2 and return the index\n",
    "print(x.index(2,2)) # search for 2 , starting from index 2"
   ]
  },
  {
   "cell_type": "code",
   "execution_count": 4,
   "metadata": {},
   "outputs": [
    {
     "name": "stdout",
     "output_type": "stream",
     "text": [
      "Gamma Beta Alpha\n"
     ]
    }
   ],
   "source": [
    "data = ('Alpha',\"Beta\", \"Gamma\")\n",
    "a , b ,c =data #unpacking\n",
    "print(c,b,a)"
   ]
  },
  {
   "cell_type": "code",
   "execution_count": 5,
   "metadata": {},
   "outputs": [],
   "source": [
    "data = ('Alpha', \"Beta\", \"Gamma\", \"Delta\", \"Epsilon\")"
   ]
  },
  {
   "cell_type": "code",
   "execution_count": 6,
   "metadata": {},
   "outputs": [
    {
     "name": "stdout",
     "output_type": "stream",
     "text": [
      "Alpha\n",
      "['Beta', 'Gamma', 'Delta', 'Epsilon']\n",
      "['Alpha', 'Beta', 'Gamma', 'Delta']\n",
      "Epsilon\n",
      "Alpha ['Beta', 'Gamma', 'Delta'] Epsilon\n",
      "Alpha Beta Gamma ['Delta', 'Epsilon']\n"
     ]
    }
   ],
   "source": [
    "# take first value in a variable and put the rest in second variable \n",
    "i, *j = data\n",
    "print(i)\n",
    "print(j)\n",
    "*x, y = data\n",
    "print(x)\n",
    "print(y)\n",
    "a,*b,c= data\n",
    "print(a,b,c)\n",
    "a,b,c,*d= data \n",
    "print(a,b,c,d)"
   ]
  },
  {
   "cell_type": "code",
   "execution_count": 9,
   "metadata": {},
   "outputs": [
    {
     "name": "stdout",
     "output_type": "stream",
     "text": [
      "<class 'tuple'> (1,)\n"
     ]
    }
   ],
   "source": [
    "a = (1,) # empty tuple , single element tuple , COMMA is imp.\n",
    "print(type(a), a)"
   ]
  },
  {
   "cell_type": "markdown",
   "metadata": {},
   "source": [
    "# Set \n",
    "- create \n",
    "- methods\n",
    "- set operations "
   ]
  },
  {
   "cell_type": "code",
   "execution_count": 11,
   "metadata": {},
   "outputs": [
    {
     "name": "stdout",
     "output_type": "stream",
     "text": [
      "set()\n",
      "{1, 2, 3}\n",
      "{32, 21412, 5, 3242, 43, 12, 4221}\n",
      "{'C', 'D', 'A'}\n"
     ]
    }
   ],
   "source": [
    "a = set() # empty set\n",
    "b = {1,2,3}\n",
    "c = {12,32,43,5,4221,21412,3242}\n",
    "print(a)\n",
    "print(b)\n",
    "print(c)\n",
    "d = {'A','D',\"C\"}\n",
    "print(d)"
   ]
  },
  {
   "cell_type": "code",
   "execution_count": 12,
   "metadata": {},
   "outputs": [
    {
     "name": "stdout",
     "output_type": "stream",
     "text": [
      "{32, 21412, 5, 3242, 43, 12, 4221}\n",
      "{1, 2, 3, 5, 11, 12, 32, 21412, 100, 3242, 43, 4221}\n"
     ]
    }
   ],
   "source": [
    "c.add(5)\n",
    "print(c)\n",
    "c.add(100)\n",
    "c.update([1,2,3,11,12])\n",
    "print(c)"
   ]
  },
  {
   "cell_type": "code",
   "execution_count": 13,
   "metadata": {},
   "outputs": [
    {
     "name": "stdout",
     "output_type": "stream",
     "text": [
      "{1, 2, 3, 5, 11, 12, 32, 21412, 3242, 43, 4221}\n",
      "{1, 2, 5, 11, 12, 32, 21412, 3242, 43, 4221}\n"
     ]
    }
   ],
   "source": [
    "c.remove(100) # agar value nhi hogi toh error aayega \n",
    "print(c)\n",
    "c.discard(3) # better than remove and isme nhi ayega \n",
    "print(c)"
   ]
  },
  {
   "cell_type": "code",
   "execution_count": 16,
   "metadata": {},
   "outputs": [
    {
     "name": "stdout",
     "output_type": "stream",
     "text": [
      "{5, 11, 12, 32, 21412, 3242, 43, 4221}\n"
     ]
    }
   ],
   "source": [
    "c.pop() # remove random element\n",
    "print(c)"
   ]
  },
  {
   "cell_type": "code",
   "execution_count": null,
   "metadata": {},
   "outputs": [],
   "source": []
  }
 ],
 "metadata": {
  "kernelspec": {
   "display_name": "base",
   "language": "python",
   "name": "python3"
  },
  "language_info": {
   "codemirror_mode": {
    "name": "ipython",
    "version": 3
   },
   "file_extension": ".py",
   "mimetype": "text/x-python",
   "name": "python",
   "nbconvert_exporter": "python",
   "pygments_lexer": "ipython3",
   "version": "3.11.4"
  }
 },
 "nbformat": 4,
 "nbformat_minor": 2
}
