{
 "cells": [
  {
   "cell_type": "code",
   "execution_count": 2,
   "metadata": {},
   "outputs": [],
   "source": [
    "name = \"alexander\"\n",
    "age = 23"
   ]
  },
  {
   "cell_type": "markdown",
   "metadata": {},
   "source": [
    "- display simple data \n",
    "- formatted display \n"
   ]
  },
  {
   "cell_type": "code",
   "execution_count": 3,
   "metadata": {},
   "outputs": [
    {
     "name": "stdout",
     "output_type": "stream",
     "text": [
      "alexander\n",
      "23\n"
     ]
    }
   ],
   "source": [
    "print(name)\n",
    "print(age)"
   ]
  },
  {
   "cell_type": "code",
   "execution_count": 4,
   "metadata": {},
   "outputs": [
    {
     "name": "stdout",
     "output_type": "stream",
     "text": [
      "alexander 23\n"
     ]
    }
   ],
   "source": [
    "print(name, age)"
   ]
  },
  {
   "cell_type": "code",
   "execution_count": 5,
   "metadata": {},
   "outputs": [
    {
     "name": "stdout",
     "output_type": "stream",
     "text": [
      "Your name is  alexander\n",
      "you are 23 years old\n"
     ]
    }
   ],
   "source": [
    "print(\"Your name is \", name)\n",
    "print('you are' ,age ,'years old')"
   ]
  },
  {
   "cell_type": "code",
   "execution_count": 6,
   "metadata": {},
   "outputs": [
    {
     "name": "stdout",
     "output_type": "stream",
     "text": [
      "Amaan Nishant Ayush kratagya\n"
     ]
    }
   ],
   "source": [
    "print(\"Amaan\",'Nishant','Ayush','kratagya')"
   ]
  },
  {
   "cell_type": "code",
   "execution_count": 7,
   "metadata": {},
   "outputs": [
    {
     "name": "stdout",
     "output_type": "stream",
     "text": [
      "Amaan\n",
      "Nishant\n",
      "Ayush\n",
      "kratagya\n"
     ]
    }
   ],
   "source": [
    "print(\"Amaan\",'Nishant','Ayush','kratagya',sep=\"\\n\")#new way"
   ]
  },
  {
   "cell_type": "code",
   "execution_count": 8,
   "metadata": {},
   "outputs": [
    {
     "name": "stdout",
     "output_type": "stream",
     "text": [
      "Amaan\n",
      "Nishant\n",
      "Ayush\n",
      "kratagya\n"
     ]
    }
   ],
   "source": [
    "print(\"Amaan\\nNishant\\nAyush\\nkratagya\")#old way"
   ]
  },
  {
   "cell_type": "code",
   "execution_count": 9,
   "metadata": {},
   "outputs": [
    {
     "name": "stdout",
     "output_type": "stream",
     "text": [
      "Amaan aur Nishant aur Ayush aur kratagya\n"
     ]
    }
   ],
   "source": [
    "print(\"Amaan\",'Nishant','Ayush','kratagya', sep=\" aur \")"
   ]
  },
  {
   "cell_type": "code",
   "execution_count": 10,
   "metadata": {},
   "outputs": [
    {
     "name": "stdout",
     "output_type": "stream",
     "text": [
      "1\n",
      "2\n",
      "3\n"
     ]
    }
   ],
   "source": [
    "print(1)\n",
    "print(2)\n",
    "print(3)"
   ]
  },
  {
   "cell_type": "code",
   "execution_count": 11,
   "metadata": {},
   "outputs": [
    {
     "name": "stdout",
     "output_type": "stream",
     "text": [
      "1 2\n",
      "3\n"
     ]
    }
   ],
   "source": [
    "print(1,end=\" \")\n",
    "print(2)\n",
    "print(3)"
   ]
  },
  {
   "cell_type": "code",
   "execution_count": 12,
   "metadata": {},
   "outputs": [
    {
     "name": "stdout",
     "output_type": "stream",
     "text": [
      "5 + 10 = 15\n"
     ]
    }
   ],
   "source": [
    "#f string means formatted string\n",
    "\n",
    "x=5\n",
    "y=10\n",
    "z=20\n",
    "\n",
    "print(x,'+',y,'=',x+y)"
   ]
  },
  {
   "cell_type": "code",
   "execution_count": 13,
   "metadata": {},
   "outputs": [
    {
     "name": "stdout",
     "output_type": "stream",
     "text": [
      "5 + 10 = 15\n"
     ]
    }
   ],
   "source": [
    "print(f'{x} + {y} = {x+y}')"
   ]
  },
  {
   "cell_type": "code",
   "execution_count": 30,
   "metadata": {},
   "outputs": [
    {
     "name": "stdout",
     "output_type": "stream",
     "text": [
      "7\n",
      "5\n"
     ]
    }
   ],
   "source": [
    "p1 = \"natasha\"\n",
    "p2 =\"Mahak\"\n",
    "print(len(p1))#to known the length (no's) of string \n",
    "print(len(p2))"
   ]
  },
  {
   "cell_type": "code",
   "execution_count": 15,
   "metadata": {},
   "outputs": [
    {
     "name": "stdout",
     "output_type": "stream",
     "text": [
      "natasha has 7 chars\n",
      "Mahak has 5 chars\n"
     ]
    }
   ],
   "source": [
    "p1 = \"natasha\"\n",
    "p2 =\"Mahak\"\n",
    "print(f\"{p1} has {len(p1)} chars\")\n",
    "print(f\"{p2} has {len(p2)} chars\")\n"
   ]
  },
  {
   "cell_type": "code",
   "execution_count": 16,
   "metadata": {},
   "outputs": [
    {
     "name": "stdout",
     "output_type": "stream",
     "text": [
      "natasha = 7 chars\n",
      "Mahak = 5 chars\n",
      "sam = 3 chars\n"
     ]
    }
   ],
   "source": [
    "p3=\"sam\"\n",
    "print(f\"{p1} = {len(p1)} chars\")\n",
    "print(f\"{p2} = {len(p2)} chars\")\n",
    "print(f\"{p3} = {len(p3)} chars\")"
   ]
  },
  {
   "cell_type": "code",
   "execution_count": 17,
   "metadata": {},
   "outputs": [
    {
     "name": "stdout",
     "output_type": "stream",
     "text": [
      "natasha    = 7 chars\n",
      "Mahak      = 5 chars\n",
      "sam        = 3 chars\n"
     ]
    }
   ],
   "source": [
    "print(f\"{p1:10} = {len(p1)} chars\") # to set the alignment \n",
    "print(f\"{p2:10} = {len(p2)} chars\")\n",
    "print(f\"{p3:10} = {len(p3)} chars\")"
   ]
  },
  {
   "cell_type": "code",
   "execution_count": 18,
   "metadata": {},
   "outputs": [
    {
     "name": "stdout",
     "output_type": "stream",
     "text": [
      "   natasha = 7 chars\n",
      "     Mahak = 5 chars\n",
      "       sam = 3 chars\n"
     ]
    }
   ],
   "source": [
    "print(f\"{p1:>10} = {len(p1)} chars\") # to set the alignment (right)\n",
    "print(f\"{p2:>10} = {len(p2)} chars\")\n",
    "print(f\"{p3:>10} = {len(p3)} chars\")"
   ]
  },
  {
   "cell_type": "code",
   "execution_count": 19,
   "metadata": {},
   "outputs": [
    {
     "name": "stdout",
     "output_type": "stream",
     "text": [
      " natasha   = 7 chars\n",
      "  Mahak    = 5 chars\n",
      "   sam     = 3 chars\n"
     ]
    }
   ],
   "source": [
    "print(f\"{p1:^10} = {len(p1)} chars\") # to set the alignment (center alignment)\n",
    "print(f\"{p2:^10} = {len(p2)} chars\")\n",
    "print(f\"{p3:^10} = {len(p3)} chars\") "
   ]
  },
  {
   "cell_type": "code",
   "execution_count": 20,
   "metadata": {},
   "outputs": [
    {
     "name": "stdout",
     "output_type": "stream",
     "text": [
      "the value of pi is 3.142857142857143 \n",
      "the value of pi is 3.14\n",
      "😂😂😂😘\n"
     ]
    }
   ],
   "source": [
    "pi = 22/7                                                 # alt+shift+down (line copy)\n",
    "print(f'the value of pi is {pi} ')\n",
    "print(f'the value of pi is {pi:.2f}') # to set decimal places \n",
    "print('😂😂😂😘')# windows+ ."
   ]
  },
  {
   "cell_type": "markdown",
   "metadata": {},
   "source": [
    "input\n"
   ]
  },
  {
   "cell_type": "code",
   "execution_count": 31,
   "metadata": {},
   "outputs": [],
   "source": [
    "city = input(\" which city do you live in ?\")"
   ]
  },
  {
   "cell_type": "code",
   "execution_count": 32,
   "metadata": {},
   "outputs": [
    {
     "name": "stdout",
     "output_type": "stream",
     "text": [
      " I live in lucknow\n"
     ]
    }
   ],
   "source": [
    "print(f\" I live in {city}\")"
   ]
  },
  {
   "cell_type": "markdown",
   "metadata": {},
   "source": [
    "Type Casting"
   ]
  },
  {
   "cell_type": "code",
   "execution_count": 23,
   "metadata": {},
   "outputs": [
    {
     "name": "stdout",
     "output_type": "stream",
     "text": [
      "<class 'int'>\n",
      "True <class 'bool'>\n",
      "1 <class 'int'>\n"
     ]
    }
   ],
   "source": [
    "a = 10\n",
    "print(type(a))\n",
    "a = bool(a) # convert a to boolean\n",
    "print(a,type(a))\n",
    "a = int(a) # convert to int\n",
    "print(a,type(a))"
   ]
  },
  {
   "cell_type": "code",
   "execution_count": 34,
   "metadata": {},
   "outputs": [
    {
     "name": "stdout",
     "output_type": "stream",
     "text": [
      "True\n"
     ]
    }
   ],
   "source": [
    "name = 'Rohan'\n",
    "name = bool(name)\n",
    "print(name)"
   ]
  },
  {
   "cell_type": "code",
   "execution_count": 25,
   "metadata": {},
   "outputs": [
    {
     "name": "stdout",
     "output_type": "stream",
     "text": [
      "100001 <class 'str'>\n",
      "100001 <class 'int'>\n"
     ]
    }
   ],
   "source": [
    "a = \"100001\"\n",
    "print(a, type(a))\n",
    "a = int(a)\n",
    "print(a,type(a))"
   ]
  },
  {
   "cell_type": "code",
   "execution_count": 26,
   "metadata": {},
   "outputs": [
    {
     "name": "stdout",
     "output_type": "stream",
     "text": [
      "3 <class 'int'>\n",
      "3.0 <class 'float'>\n"
     ]
    }
   ],
   "source": [
    "pi = int(pi)\n",
    "print(pi, type(pi))\n",
    "pi = float(pi)\n",
    "print(pi, type(pi))"
   ]
  },
  {
   "cell_type": "code",
   "execution_count": 27,
   "metadata": {},
   "outputs": [
    {
     "ename": "ValueError",
     "evalue": "invalid literal for int() with base 10: 'gj'",
     "output_type": "error",
     "traceback": [
      "\u001b[1;31m---------------------------------------------------------------------------\u001b[0m",
      "\u001b[1;31mValueError\u001b[0m                                Traceback (most recent call last)",
      "\u001b[1;32mc:\\Users\\user\\OneDrive\\Documents\\pythonDS\\io.ipynb Cell 29\u001b[0m line \u001b[0;36m1\n\u001b[1;32m----> <a href='vscode-notebook-cell:/c%3A/Users/user/OneDrive/Documents/pythonDS/io.ipynb#X40sZmlsZQ%3D%3D?line=0'>1</a>\u001b[0m a \u001b[39m=\u001b[39m \u001b[39mint\u001b[39m(\u001b[39minput\u001b[39m(\u001b[39m'\u001b[39m\u001b[39mEnter a:\u001b[39m\u001b[39m'\u001b[39m))\n\u001b[0;32m      <a href='vscode-notebook-cell:/c%3A/Users/user/OneDrive/Documents/pythonDS/io.ipynb#X40sZmlsZQ%3D%3D?line=1'>2</a>\u001b[0m b \u001b[39m=\u001b[39m \u001b[39mint\u001b[39m(\u001b[39minput\u001b[39m(\u001b[39m'\u001b[39m\u001b[39mEnter b:\u001b[39m\u001b[39m'\u001b[39m))\n\u001b[0;32m      <a href='vscode-notebook-cell:/c%3A/Users/user/OneDrive/Documents/pythonDS/io.ipynb#X40sZmlsZQ%3D%3D?line=2'>3</a>\u001b[0m \u001b[39mprint\u001b[39m(a \u001b[39m*\u001b[39m b)\n",
      "\u001b[1;31mValueError\u001b[0m: invalid literal for int() with base 10: 'gj'"
     ]
    }
   ],
   "source": [
    "a = int(input('Enter a:'))\n",
    "b = int(input('Enter b:'))\n",
    "print(a * b)"
   ]
  }
 ],
 "metadata": {
  "kernelspec": {
   "display_name": "base",
   "language": "python",
   "name": "python3"
  },
  "language_info": {
   "codemirror_mode": {
    "name": "ipython",
    "version": 3
   },
   "file_extension": ".py",
   "mimetype": "text/x-python",
   "name": "python",
   "nbconvert_exporter": "python",
   "pygments_lexer": "ipython3",
   "version": "3.11.4"
  },
  "orig_nbformat": 4
 },
 "nbformat": 4,
 "nbformat_minor": 2
}
