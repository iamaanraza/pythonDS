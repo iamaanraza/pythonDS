{
 "cells": [
  {
   "cell_type": "code",
   "execution_count": 6,
   "metadata": {},
   "outputs": [
    {
     "name": "stdout",
     "output_type": "stream",
     "text": [
      "1 2 3 4 5 6 7 8 9 "
     ]
    }
   ],
   "source": [
    "# Write a program to print numbers from 1 to 10 using a for loop.\n",
    "\n",
    "range (1,10)\n",
    "for i in range(1,10):\n",
    "   print(i,end=' ')    "
   ]
  },
  {
   "cell_type": "code",
   "execution_count": 13,
   "metadata": {},
   "outputs": [
    {
     "name": "stdout",
     "output_type": "stream",
     "text": [
      "3*1=3\n",
      "3*2=6\n",
      "3*3=9\n",
      "3*4=12\n",
      "3*5=15\n",
      "3*6=18\n",
      "3*7=21\n",
      "3*8=24\n",
      "3*9=27\n",
      "3*10=30\n"
     ]
    }
   ],
   "source": [
    "# Write a program to print the multiplication table of a given number using a while loop.\n",
    "\n",
    "a = int(input(\"Enter a no. of which you need the table:\"))\n",
    "b = 1\n",
    "while b<=10:\n",
    "    r = a*b\n",
    "    print(f'{a}*{b}={r}')\n",
    "    b+=1"
   ]
  },
  {
   "cell_type": "code",
   "execution_count": 26,
   "metadata": {},
   "outputs": [
    {
     "name": "stdout",
     "output_type": "stream",
     "text": [
      "the sum of even no are : 2550\n"
     ]
    }
   ],
   "source": [
    "# Write a program to find the sum of all even numbers between 1 and 100 using a for loop.\n",
    "\n",
    "sum = 0\n",
    "for i in range(1,101) :\n",
    "    if i % 2 == 0 :\n",
    "        sum += i\n",
    "print(\"the sum of even no are :\",sum)"
   ]
  },
  {
   "cell_type": "code",
   "execution_count": 8,
   "metadata": {},
   "outputs": [
    {
     "name": "stdout",
     "output_type": "stream",
     "text": [
      "1 is not a prime number\n"
     ]
    }
   ],
   "source": [
    "# Write a program to check if a given number is prime or not using a while loop\n",
    "\n",
    "a = int(input(\"Enter any no:\"))\n",
    "c=0\n",
    "i =2\n",
    "while i <=(a/2):\n",
    "    if (a%i) == 0:\n",
    "        c = 1\n",
    "        break\n",
    "if a == 1:\n",
    "    print(c,\"is neither prime nor composite\")\n",
    "elif c == 0:\n",
    "    print(c,\"is a prime number\")\n",
    "elif c == 1:\n",
    "    print(c,\"is not a prime number\")       \n",
    "    \n",
    "           \n"
   ]
  },
  {
   "cell_type": "code",
   "execution_count": null,
   "metadata": {},
   "outputs": [],
   "source": []
  }
 ],
 "metadata": {
  "kernelspec": {
   "display_name": "base",
   "language": "python",
   "name": "python3"
  },
  "language_info": {
   "codemirror_mode": {
    "name": "ipython",
    "version": 3
   },
   "file_extension": ".py",
   "mimetype": "text/x-python",
   "name": "python",
   "nbconvert_exporter": "python",
   "pygments_lexer": "ipython3",
   "version": "3.11.4"
  }
 },
 "nbformat": 4,
 "nbformat_minor": 2
}
