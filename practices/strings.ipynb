{
 "cells": [
  {
   "cell_type": "code",
   "execution_count": 3,
   "metadata": {},
   "outputs": [
    {
     "name": "stdout",
     "output_type": "stream",
     "text": [
      "Hello world , it an honour to meet\n"
     ]
    }
   ],
   "source": [
    "# create a string and print it .\n",
    "\n",
    "a = str(\"Hello world , it an honour to meet\")\n",
    "print(a)"
   ]
  },
  {
   "cell_type": "code",
   "execution_count": 6,
   "metadata": {},
   "outputs": [
    {
     "name": "stdout",
     "output_type": "stream",
     "text": [
      "i am Amaan Raza , nice to mmet you.\n",
      "35\n"
     ]
    }
   ],
   "source": [
    "# take a string input and print it's length.\n",
    "\n",
    "b = input(str(\"Enter a string :\"))\n",
    "print(b)\n",
    "print(len(b))"
   ]
  },
  {
   "cell_type": "code",
   "execution_count": 9,
   "metadata": {},
   "outputs": [
    {
     "name": "stdout",
     "output_type": "stream",
     "text": [
      "Python is great\n",
      "great\n"
     ]
    }
   ],
   "source": [
    "# print the list word of the string \"Python is Great\" using slices.\n",
    "\n",
    "c = str(\"Python is great\")\n",
    "print(c)\n",
    "print(c[-5:])"
   ]
  },
  {
   "cell_type": "code",
   "execution_count": 74,
   "metadata": {},
   "outputs": [
    {
     "name": "stdout",
     "output_type": "stream",
     "text": [
      "Python is everywhere\n"
     ]
    }
   ],
   "source": [
    "# print the each word in different line of string \"python is everywhere\"\n",
    "\n",
    "d = str(\"Python is everywhere\")\n",
    "print(d,sep='\\n')"
   ]
  },
  {
   "cell_type": "code",
   "execution_count": 73,
   "metadata": {},
   "outputs": [
    {
     "name": "stdout",
     "output_type": "stream",
     "text": [
      "dlroW olleH\n"
     ]
    }
   ],
   "source": [
    "# print the string \"Hello World\" in reverse.\n",
    "\n",
    "s = str(\"Hello World\"[::-1])\n",
    "#print(len(s))\n",
    "print(s)"
   ]
  },
  {
   "cell_type": "code",
   "execution_count": 77,
   "metadata": {},
   "outputs": [
    {
     "name": "stdout",
     "output_type": "stream",
     "text": [
      "HOW ARE YOU?\n"
     ]
    }
   ],
   "source": [
    "# convert the string \"How are you\" ? in uppercase.\n",
    "\n",
    "u = str(\"how are you?\")\n",
    "print(u.upper())"
   ]
  },
  {
   "cell_type": "code",
   "execution_count": 78,
   "metadata": {},
   "outputs": [
    {
     "name": "stdout",
     "output_type": "stream",
     "text": [
      "how is it going?\n"
     ]
    }
   ],
   "source": [
    "# covert the string How Is It going? in lowercase.\n",
    "\n",
    "x = str(\"How is It Going?\")\n",
    "print(x.lower())"
   ]
  },
  {
   "cell_type": "code",
   "execution_count": 1,
   "metadata": {},
   "outputs": [
    {
     "name": "stdout",
     "output_type": "stream",
     "text": [
      "python is easy to learn\n"
     ]
    }
   ],
   "source": [
    "# join the following list by spaces( ) and print the result .\n",
    "# words = ['python','is', 'easy', 'to', 'learn']\n",
    "\n",
    "words = ['python','is', 'easy', 'to', 'learn']\n",
    "print(\" \".join(words))\n",
    "\n"
   ]
  },
  {
   "cell_type": "code",
   "execution_count": 2,
   "metadata": {},
   "outputs": [
    {
     "name": "stdout",
     "output_type": "stream",
     "text": [
      "this is my multi line string, \n",
      "    in this i will try to print this multiline string ,\n",
      "    with just a print.\n",
      "    \n"
     ]
    }
   ],
   "source": [
    "# print a multi line string using a single [print].\n",
    "\n",
    "a = '''this is my multi line string, \n",
    "    in this i will try to print this multiline string ,\n",
    "    with just a print.\n",
    "    '''\n",
    "print(a)"
   ]
  },
  {
   "cell_type": "code",
   "execution_count": 5,
   "metadata": {},
   "outputs": [
    {
     "name": "stdout",
     "output_type": "stream",
     "text": [
      "the variable is 15\n"
     ]
    }
   ],
   "source": [
    "# Print a variable with some text using a single print function, output should look like following.\n",
    "# the variable is 15.\n",
    "\n",
    "v = 15\n",
    "print(f\"the variable is {v}\")"
   ]
  },
  {
   "cell_type": "code",
   "execution_count": 7,
   "metadata": {},
   "outputs": [
    {
     "name": "stdout",
     "output_type": "stream",
     "text": [
      "python is great\n"
     ]
    }
   ],
   "source": [
    "# concatenate the following string and print the result.\n",
    "\n",
    "s1 = 'python'\n",
    "s2 = 'is'\n",
    "s3 = 'great'\n",
    "print(f\"{s1} {s2} {s3}\")"
   ]
  },
  {
   "cell_type": "code",
   "execution_count": 9,
   "metadata": {},
   "outputs": [
    {
     "name": "stdout",
     "output_type": "stream",
     "text": [
      "********************\n"
     ]
    }
   ],
   "source": [
    "# Print # 20 times without using a loop\n",
    "\n",
    "star=\"*\"\n",
    "sum = 20*'*'\n",
    "print(f\"{sum}\")"
   ]
  },
  {
   "cell_type": "code",
   "execution_count": 2,
   "metadata": {},
   "outputs": [
    {
     "name": "stdout",
     "output_type": "stream",
     "text": [
      "1.\n",
      "2.\n",
      "3.\n",
      "4.\n",
      "5.\n",
      "6.\n",
      "7.\n",
      "8.\n",
      "9.\n"
     ]
    }
   ],
   "source": [
    "# Print numbers from 1 to 9, each on a seperate line, followed by a dot, output should look like the following-\n",
    "\n",
    "for i in range(1,10):\n",
    "    print(i,end=\".\\n\")\n",
    "    \n",
    "    "
   ]
  },
  {
   "cell_type": "code",
   "execution_count": 4,
   "metadata": {},
   "outputs": [
    {
     "name": "stdout",
     "output_type": "stream",
     "text": [
      "hello\n",
      "im\n",
      "good\n"
     ]
    }
   ],
   "source": [
    "# Ask user to input a sentence and print each word on a different line\n",
    "\n",
    "inp= str(input(\"Enter a string:\"))\n",
    "words = inp.split()\n",
    "for word in words:\n",
    "    print(word)"
   ]
  },
  {
   "cell_type": "code",
   "execution_count": 5,
   "metadata": {},
   "outputs": [
    {
     "name": "stdout",
     "output_type": "stream",
     "text": [
      "True\n"
     ]
    }
   ],
   "source": [
    "# Ask user to input a string and check if the string ends with '?\n",
    "\n",
    "sentence = str(input(\"Enter a string :\"))\n",
    "print(sentence.endswith(\"?\"))"
   ]
  },
  {
   "cell_type": "code",
   "execution_count": 8,
   "metadata": {},
   "outputs": [
    {
     "name": "stdout",
     "output_type": "stream",
     "text": [
      "the letter 'e' appears 3 times in the string.\n"
     ]
    }
   ],
   "source": [
    "# Ask user to input a string and print how many times e appeared in the string\n",
    "\n",
    "string = str(input(\"Enter a string :\"))\n",
    "count_e = string.lower().count(\"e\")\n",
    "print(\"the letter 'e' appears\",count_e,\"times in the string.\")"
   ]
  },
  {
   "cell_type": "code",
   "execution_count": 10,
   "metadata": {},
   "outputs": [
    {
     "name": "stdout",
     "output_type": "stream",
     "text": [
      "number:True\n"
     ]
    }
   ],
   "source": [
    "# Check if the user input is a number.\n",
    "no= (input(\"Enter a no:\"))\n",
    "print(f\"number:{no.isnumeric()}\")\n"
   ]
  },
  {
   "cell_type": "code",
   "execution_count": 12,
   "metadata": {},
   "outputs": [
    {
     "name": "stdout",
     "output_type": "stream",
     "text": [
      "this is not a good string\n"
     ]
    }
   ],
   "source": [
    "# Remove the extra spaces in beginning and in the end of the following string-\n",
    "#text = '   this is not a good string           '\n",
    "\n",
    "a = '   this is not a good string           '\n",
    "print(a.strip())"
   ]
  },
  {
   "cell_type": "code",
   "execution_count": 15,
   "metadata": {},
   "outputs": [
    {
     "name": "stdout",
     "output_type": "stream",
     "text": [
      "found uppercase characters in the string.\n"
     ]
    }
   ],
   "source": [
    "# Ask user to input string, print found if any of the character is upper case.\n",
    "\n",
    "string1= input(\"Enter a string :\")\n",
    "if any(char.isupper() for char in string1):\n",
    "    print(\"found uppercase characters in the string.\")\n",
    "else:\n",
    "    print(\"no uppercase character found in the string.\")    "
   ]
  },
  {
   "cell_type": "code",
   "execution_count": null,
   "metadata": {},
   "outputs": [],
   "source": []
  }
 ],
 "metadata": {
  "kernelspec": {
   "display_name": "base",
   "language": "python",
   "name": "python3"
  },
  "language_info": {
   "codemirror_mode": {
    "name": "ipython",
    "version": 3
   },
   "file_extension": ".py",
   "mimetype": "text/x-python",
   "name": "python",
   "nbconvert_exporter": "python",
   "pygments_lexer": "ipython3",
   "version": "3.11.4"
  }
 },
 "nbformat": 4,
 "nbformat_minor": 2
}
