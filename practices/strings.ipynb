{
 "cells": [
  {
   "cell_type": "code",
   "execution_count": 3,
   "metadata": {},
   "outputs": [
    {
     "name": "stdout",
     "output_type": "stream",
     "text": [
      "Hello world , it an honour to meet\n"
     ]
    }
   ],
   "source": [
    "# create a string and print it .\n",
    "\n",
    "a = str(\"Hello world , it an honour to meet\")\n",
    "print(a)"
   ]
  },
  {
   "cell_type": "code",
   "execution_count": 6,
   "metadata": {},
   "outputs": [
    {
     "name": "stdout",
     "output_type": "stream",
     "text": [
      "i am Amaan Raza , nice to mmet you.\n",
      "35\n"
     ]
    }
   ],
   "source": [
    "# take a string input and print it's length.\n",
    "\n",
    "b = input(str(\"Enter a string :\"))\n",
    "print(b)\n",
    "print(len(b))"
   ]
  },
  {
   "cell_type": "code",
   "execution_count": 9,
   "metadata": {},
   "outputs": [
    {
     "name": "stdout",
     "output_type": "stream",
     "text": [
      "Python is great\n",
      "great\n"
     ]
    }
   ],
   "source": [
    "# print the list word of the string \"Python is Great\" using slices.\n",
    "\n",
    "c = str(\"Python is great\")\n",
    "print(c)\n",
    "print(c[-5:])"
   ]
  },
  {
   "cell_type": "code",
   "execution_count": 74,
   "metadata": {},
   "outputs": [
    {
     "name": "stdout",
     "output_type": "stream",
     "text": [
      "Python is everywhere\n"
     ]
    }
   ],
   "source": [
    "# print the each word in different line of string \"python is everywhere\"\n",
    "\n",
    "d = str(\"Python is everywhere\")\n",
    "print(d,sep='\\n')"
   ]
  },
  {
   "cell_type": "code",
   "execution_count": 73,
   "metadata": {},
   "outputs": [
    {
     "name": "stdout",
     "output_type": "stream",
     "text": [
      "dlroW olleH\n"
     ]
    }
   ],
   "source": [
    "# print the string \"Hello World\" in reverse.\n",
    "\n",
    "s = str(\"Hello World\"[::-1])\n",
    "#print(len(s))\n",
    "print(s)"
   ]
  },
  {
   "cell_type": "code",
   "execution_count": 77,
   "metadata": {},
   "outputs": [
    {
     "name": "stdout",
     "output_type": "stream",
     "text": [
      "HOW ARE YOU?\n"
     ]
    }
   ],
   "source": [
    "# convert the string \"How are you\" ? in uppercase.\n",
    "\n",
    "u = str(\"how are you?\")\n",
    "print(u.upper())"
   ]
  },
  {
   "cell_type": "code",
   "execution_count": 78,
   "metadata": {},
   "outputs": [
    {
     "name": "stdout",
     "output_type": "stream",
     "text": [
      "how is it going?\n"
     ]
    }
   ],
   "source": [
    "# covert the string How Is It going? in lowercase.\n",
    "\n",
    "x = str(\"How is It Going?\")\n",
    "print(x.lower())"
   ]
  },
  {
   "cell_type": "code",
   "execution_count": null,
   "metadata": {},
   "outputs": [],
   "source": [
    "# join the following list by spaces( ) and p"
   ]
  }
 ],
 "metadata": {
  "kernelspec": {
   "display_name": "base",
   "language": "python",
   "name": "python3"
  },
  "language_info": {
   "codemirror_mode": {
    "name": "ipython",
    "version": 3
   },
   "file_extension": ".py",
   "mimetype": "text/x-python",
   "name": "python",
   "nbconvert_exporter": "python",
   "pygments_lexer": "ipython3",
   "version": "3.11.4"
  }
 },
 "nbformat": 4,
 "nbformat_minor": 2
}
