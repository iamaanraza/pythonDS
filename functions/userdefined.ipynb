{
 "cells": [
  {
   "cell_type": "markdown",
   "metadata": {},
   "source": [
    "# user defined functions \n",
    "* (function se error dhundne mein asani hoti hai code mein)\n",
    "*function mein jo input aata hai usse arguments/parameters bolte hain\n",
    "*output = return value.\n",
    "-> on the basis of signature functions can be divided into \n",
    "\n",
    "1. No argumnet no return type (game programming mostly)\n",
    "2. No argument with return type\n",
    "3. With argument no return type \n",
    "4. With argumnet with return type \n",
    "5. Lambda function (anonymous function)"
   ]
  },
  {
   "cell_type": "markdown",
   "metadata": {},
   "source": [
    "* Conventions for making a functions*\n",
    "- function name should be in lower case \n",
    "- function should never take input fron user\n",
    "- don't use print function to display result from func, prefer returing value \n",
    "- function must be defined before calling \n",
    "- function should be called after they have defined to actually execute them. "
   ]
  },
  {
   "cell_type": "markdown",
   "metadata": {},
   "source": [
    "```python \n",
    "def func_name([parameters]):\n",
    "    ```\n",
    "    docstring\n",
    "    ```\n",
    "# body of function \n",
    "# [return statement]   "
   ]
  },
  {
   "cell_type": "code",
   "execution_count": 3,
   "metadata": {},
   "outputs": [],
   "source": [
    "def welcome():\n",
    "    '''a function that welcomes user''' # documentation of function\n",
    "    print(\"Welcome to python functions!\")"
   ]
  },
  {
   "cell_type": "code",
   "execution_count": 2,
   "metadata": {},
   "outputs": [
    {
     "name": "stdout",
     "output_type": "stream",
     "text": [
      "Welcome to python functions!\n"
     ]
    }
   ],
   "source": [
    "welcome()"
   ]
  },
  {
   "cell_type": "code",
   "execution_count": 4,
   "metadata": {},
   "outputs": [
    {
     "name": "stdout",
     "output_type": "stream",
     "text": [
      "Welcome to python functions!\n",
      "Welcome to python functions!\n",
      "Welcome to python functions!\n"
     ]
    }
   ],
   "source": [
    "for i in range(3):\n",
    "    welcome()\n",
    "    "
   ]
  },
  {
   "cell_type": "code",
   "execution_count": 17,
   "metadata": {},
   "outputs": [],
   "source": [
    "# function returning value \n",
    "\n",
    "def get_random_letter():\n",
    "    import random\n",
    "    code = random.randint(2304, 2432)\n",
    "    return chr(code)"
   ]
  },
  {
   "cell_type": "code",
   "execution_count": 18,
   "metadata": {},
   "outputs": [
    {
     "name": "stdout",
     "output_type": "stream",
     "text": [
      "६\n",
      "र\n",
      "ॴ\n",
      "श\n"
     ]
    }
   ],
   "source": [
    "print(get_random_letter())\n",
    "print(get_random_letter())\n",
    "print(get_random_letter())\n",
    "print(get_random_letter())"
   ]
  },
  {
   "cell_type": "code",
   "execution_count": 14,
   "metadata": {},
   "outputs": [
    {
     "name": "stdout",
     "output_type": "stream",
     "text": [
      "ॹ ॽ ऱ ै ॓ ि ॢ ॸ ँ ङ "
     ]
    }
   ],
   "source": [
    "for i in range(10):\n",
    "    print(get_random_letter(), end=\" \")"
   ]
  },
  {
   "cell_type": "code",
   "execution_count": 19,
   "metadata": {},
   "outputs": [],
   "source": [
    "def get_random_chinese_letter():\n",
    "    import random\n",
    "    code = random.randint(0x4e00, 0x9fff) # hexadecimals\n",
    "    return chr(code)"
   ]
  },
  {
   "cell_type": "code",
   "execution_count": 22,
   "metadata": {},
   "outputs": [
    {
     "name": "stdout",
     "output_type": "stream",
     "text": [
      "亇 鵮 異 算 緒 耮 傑 虞 屗 第 "
     ]
    }
   ],
   "source": [
    "for i in range(10):\n",
    "    print(get_random_chinese_letter(), end=\" \")"
   ]
  },
  {
   "cell_type": "code",
   "execution_count": 26,
   "metadata": {},
   "outputs": [
    {
     "data": {
      "text/plain": [
       "'尅 yeh string hai!!'"
      ]
     },
     "execution_count": 26,
     "metadata": {},
     "output_type": "execute_result"
    }
   ],
   "source": [
    "get_random_chinese_letter()+ \" yeh string hai!!\""
   ]
  },
  {
   "cell_type": "code",
   "execution_count": 27,
   "metadata": {},
   "outputs": [
    {
     "data": {
      "text/plain": [
       "'逶逶逶逶逶'"
      ]
     },
     "execution_count": 27,
     "metadata": {},
     "output_type": "execute_result"
    }
   ],
   "source": [
    "get_random_chinese_letter()*5 # function mein aage kuch bhi add karke print kar sakte hai"
   ]
  },
  {
   "cell_type": "code",
   "execution_count": 28,
   "metadata": {},
   "outputs": [],
   "source": [
    "def simple_interest(p, r, t): # p,r,t required parameter \n",
    "    return p*r*t/100"
   ]
  },
  {
   "cell_type": "code",
   "execution_count": 30,
   "metadata": {},
   "outputs": [
    {
     "name": "stdout",
     "output_type": "stream",
     "text": [
      "34560.0\n"
     ]
    }
   ],
   "source": [
    "ans= simple_interest(12000, 12, 24)\n",
    "print(ans)"
   ]
  },
  {
   "cell_type": "code",
   "execution_count": 33,
   "metadata": {},
   "outputs": [
    {
     "data": {
      "text/plain": [
       "10800.0"
      ]
     },
     "execution_count": 33,
     "metadata": {},
     "output_type": "execute_result"
    }
   ],
   "source": [
    "simple_interest(p=15000,r=6,t=12) \n"
   ]
  },
  {
   "cell_type": "code",
   "execution_count": 34,
   "metadata": {},
   "outputs": [
    {
     "data": {
      "text/plain": [
       "3600.0"
      ]
     },
     "execution_count": 34,
     "metadata": {},
     "output_type": "execute_result"
    }
   ],
   "source": [
    "simple_interest(r=15,t=2,p=12000)"
   ]
  },
  {
   "cell_type": "markdown",
   "metadata": {},
   "source": [
    "### Parameterized function\n",
    "functions that accept parameter are called papmeterized functions, \n",
    "there are 4 types of parameterized funcctions :\n",
    "- functions with `required `parameters\n",
    "- functins with `default` parameters\n",
    "- functions with `default`parameter \n",
    "- function with `variable`parameter/arguments \n",
    "- functions with `variable `keyword arguments "
   ]
  },
  {
   "cell_type": "code",
   "execution_count": 1,
   "metadata": {},
   "outputs": [],
   "source": [
    "def adder(a, b, c, d):\n",
    "    ans = a+b+c+d \n",
    "    return ans"
   ]
  },
  {
   "cell_type": "code",
   "execution_count": 5,
   "metadata": {},
   "outputs": [
    {
     "name": "stdout",
     "output_type": "stream",
     "text": [
      "36\n"
     ]
    }
   ],
   "source": [
    "x = adder(10, 20, 2, 4) # all parameters are required\n",
    "print(x) "
   ]
  },
  {
   "cell_type": "code",
   "execution_count": 6,
   "metadata": {},
   "outputs": [],
   "source": [
    "# c and d are optional parameter , since they have default values \n",
    "def adderv2(a, b, c=1, d=1): # default parameter hamesha right se chalu hoga \n",
    "    return a+b+c+d"
   ]
  },
  {
   "cell_type": "code",
   "execution_count": 15,
   "metadata": {},
   "outputs": [
    {
     "name": "stdout",
     "output_type": "stream",
     "text": [
      "35\n",
      "21\n",
      "17\n",
      "31\n",
      "46\n",
      "55\n",
      "41\n"
     ]
    }
   ],
   "source": [
    "print(adderv2(5,10,5,15))\n",
    "print(adderv2(5,10,5))\n",
    "print(adderv2(5,10))\n",
    "print(adderv2(a=10,b=5,d=15))\n",
    "print(adderv2(10,20,d=15))\n",
    "print(adderv2(10,20,c=10,d=15))\n",
    "print(adderv2(10,20,c=10))\n"
   ]
  },
  {
   "cell_type": "code",
   "execution_count": 33,
   "metadata": {},
   "outputs": [],
   "source": [
    "def save_file(content, filename='output.txt', dont_change=False):\n",
    "    import os \n",
    "    if dont_change and os.path.exists(filename):\n",
    "        return \"file already exists\"\n",
    "    else:        \n",
    "         with open(filename, 'w') as f:\n",
    "             f.write(content)\n",
    "         return \"file saved\"        "
   ]
  },
  {
   "cell_type": "code",
   "execution_count": 32,
   "metadata": {},
   "outputs": [
    {
     "data": {
      "text/plain": [
       "'file saved'"
      ]
     },
     "execution_count": 32,
     "metadata": {},
     "output_type": "execute_result"
    }
   ],
   "source": [
    "c = ''' yeh \n",
    "raha \n",
    "content\n",
    "'''\n",
    "\n",
    "save_file(c)"
   ]
  },
  {
   "cell_type": "code",
   "execution_count": 26,
   "metadata": {},
   "outputs": [
    {
     "data": {
      "text/plain": [
       "'file already exists'"
      ]
     },
     "execution_count": 26,
     "metadata": {},
     "output_type": "execute_result"
    }
   ],
   "source": [
    "c = '''another \n",
    "content here\n",
    "'''\n",
    "save_file(c, dont_change=True)"
   ]
  },
  {
   "cell_type": "code",
   "execution_count": 34,
   "metadata": {},
   "outputs": [],
   "source": [
    "def calc(a,b, o='+'):\n",
    "    if o =='+':\n",
    "        return a+b \n",
    "    elif o =='-':\n",
    "        return a-b\n",
    "    elif o =='*':\n",
    "        return a*b \n",
    "    elif o == '/':\n",
    "        return a/b\n",
    "    else :\n",
    "        return \"invalid operator use(+ - * /)\"                "
   ]
  },
  {
   "cell_type": "code",
   "execution_count": 36,
   "metadata": {},
   "outputs": [
    {
     "name": "stdout",
     "output_type": "stream",
     "text": [
      "30\n",
      "200\n",
      "0.5\n",
      "-10\n",
      "invalid operator use(+ - * /)\n"
     ]
    }
   ],
   "source": [
    "print(calc(10 ,20))\n",
    "print(calc(10 ,20, '*'))\n",
    "print(calc(10 ,20, '/'))\n",
    "print(calc(10 ,20, '-'))\n",
    "print(calc(10 ,20, '%'))"
   ]
  },
  {
   "cell_type": "code",
   "execution_count": 39,
   "metadata": {},
   "outputs": [],
   "source": [
    "# variable arguments (unlimited parameter pass ho jaye iss liye)\n",
    "\n",
    "def adderv3(*numbers):\n",
    "    print(f'func got {numbers}')\n",
    "    return sum(numbers)"
   ]
  },
  {
   "cell_type": "code",
   "execution_count": 40,
   "metadata": {},
   "outputs": [
    {
     "name": "stdout",
     "output_type": "stream",
     "text": [
      "func got ()\n",
      "0\n",
      "func got (12,)\n",
      "12\n",
      "func got (1, 2, 3, 4)\n",
      "10\n",
      "func got (1, 2, 3, 4, 13, 325, 6, 6, 63, 2)\n",
      "425\n"
     ]
    }
   ],
   "source": [
    "print(adderv3())\n",
    "print(adderv3(12))\n",
    "print(adderv3(1,2,3,4))\n",
    "print(adderv3(1,2,3,4,13,325,6,6,63,2))"
   ]
  },
  {
   "cell_type": "code",
   "execution_count": 41,
   "metadata": {},
   "outputs": [],
   "source": [
    "def avg(*data):\n",
    "    if len(data) > 0:\n",
    "        return sum(data)/len(data)\n",
    "    return 0    \n",
    "    "
   ]
  },
  {
   "cell_type": "code",
   "execution_count": 42,
   "metadata": {},
   "outputs": [
    {
     "name": "stdout",
     "output_type": "stream",
     "text": [
      "20.0\n"
     ]
    }
   ],
   "source": [
    "print(avg(12,18,20,30))"
   ]
  },
  {
   "cell_type": "code",
   "execution_count": 43,
   "metadata": {},
   "outputs": [],
   "source": [
    "# keyword parameter\n",
    "# dict jaisa banayega \n",
    "def names(**details):\n",
    "    for k,v in details.items():\n",
    "        print(f'{k} is {v}')"
   ]
  },
  {
   "cell_type": "code",
   "execution_count": 44,
   "metadata": {},
   "outputs": [
    {
     "name": "stdout",
     "output_type": "stream",
     "text": [
      "amaaan is 12\n",
      "nishan is 20\n",
      "zaid is 40\n"
     ]
    }
   ],
   "source": [
    "names(amaaan=12, nishan=20 , zaid=40)"
   ]
  },
  {
   "cell_type": "code",
   "execution_count": 45,
   "metadata": {},
   "outputs": [
    {
     "name": "stdout",
     "output_type": "stream",
     "text": [
      "rahul is 29\n"
     ]
    }
   ],
   "source": [
    "names(rahul=29)"
   ]
  },
  {
   "cell_type": "code",
   "execution_count": 46,
   "metadata": {},
   "outputs": [],
   "source": [
    "# lambda expressions\n",
    "f = lambda x : x+ 2*x \n",
    "g = lambda x , y : x ** y + 10"
   ]
  },
  {
   "cell_type": "code",
   "execution_count": 51,
   "metadata": {},
   "outputs": [
    {
     "name": "stdout",
     "output_type": "stream",
     "text": [
      "140\n"
     ]
    }
   ],
   "source": [
    "print(f(10) + g(10,2))"
   ]
  },
  {
   "cell_type": "code",
   "execution_count": 52,
   "metadata": {},
   "outputs": [
    {
     "data": {
      "text/plain": [
       "<map at 0x1fd311b1e70>"
      ]
     },
     "execution_count": 52,
     "metadata": {},
     "output_type": "execute_result"
    }
   ],
   "source": [
    "map(lambda x: x**2, [51,2,3,13,4,5])"
   ]
  },
  {
   "cell_type": "code",
   "execution_count": null,
   "metadata": {},
   "outputs": [],
   "source": []
  }
 ],
 "metadata": {
  "kernelspec": {
   "display_name": "base",
   "language": "python",
   "name": "python3"
  },
  "language_info": {
   "codemirror_mode": {
    "name": "ipython",
    "version": 3
   },
   "file_extension": ".py",
   "mimetype": "text/x-python",
   "name": "python",
   "nbconvert_exporter": "python",
   "pygments_lexer": "ipython3",
   "version": "3.11.4"
  }
 },
 "nbformat": 4,
 "nbformat_minor": 2
}
