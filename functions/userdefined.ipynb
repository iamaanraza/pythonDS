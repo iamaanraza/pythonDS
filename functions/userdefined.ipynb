{
 "cells": [
  {
   "cell_type": "markdown",
   "metadata": {},
   "source": [
    "# user defined functions \n",
    "* (function se error dhundne mein asani hoti hai code mein)\n",
    "*function mein jo input aata hai usse arguments/parameters bolte hain\n",
    "*output = return value.\n",
    "-> on the basis of signature functions can be divided into \n",
    "\n",
    "1. No argumnet no return type (game programming mostly)\n",
    "2. No argument with return type\n",
    "3. With argument no return type \n",
    "4. With argumnet with return type \n",
    "5. Lambda function (anonymous function)"
   ]
  },
  {
   "cell_type": "markdown",
   "metadata": {},
   "source": [
    "* Conventions for making a functions*\n",
    "- function name should be in lower case \n",
    "- function should never take input fron user\n",
    "- don't use print function to display result from func, prefer returing value \n",
    "- function must be defined before calling \n",
    "- function should be called after they have defined to actually execute them. "
   ]
  },
  {
   "cell_type": "markdown",
   "metadata": {},
   "source": [
    "```python \n",
    "def func_name([parameters]):\n",
    "    ```\n",
    "    docstring\n",
    "    ```\n",
    "# body of function \n",
    "# [return statement]   "
   ]
  },
  {
   "cell_type": "code",
   "execution_count": 3,
   "metadata": {},
   "outputs": [],
   "source": [
    "def welcome():\n",
    "    '''a function that welcomes user''' # documentation of function\n",
    "    print(\"Welcome to python functions!\")"
   ]
  },
  {
   "cell_type": "code",
   "execution_count": 2,
   "metadata": {},
   "outputs": [
    {
     "name": "stdout",
     "output_type": "stream",
     "text": [
      "Welcome to python functions!\n"
     ]
    }
   ],
   "source": [
    "welcome()"
   ]
  },
  {
   "cell_type": "code",
   "execution_count": 4,
   "metadata": {},
   "outputs": [
    {
     "name": "stdout",
     "output_type": "stream",
     "text": [
      "Welcome to python functions!\n",
      "Welcome to python functions!\n",
      "Welcome to python functions!\n"
     ]
    }
   ],
   "source": [
    "for i in range(3):\n",
    "    welcome()\n",
    "    "
   ]
  },
  {
   "cell_type": "code",
   "execution_count": 17,
   "metadata": {},
   "outputs": [],
   "source": [
    "# function returning value \n",
    "\n",
    "def get_random_letter():\n",
    "    import random\n",
    "    code = random.randint(2304, 2432)\n",
    "    return chr(code)"
   ]
  },
  {
   "cell_type": "code",
   "execution_count": 18,
   "metadata": {},
   "outputs": [
    {
     "name": "stdout",
     "output_type": "stream",
     "text": [
      "६\n",
      "र\n",
      "ॴ\n",
      "श\n"
     ]
    }
   ],
   "source": [
    "print(get_random_letter())\n",
    "print(get_random_letter())\n",
    "print(get_random_letter())\n",
    "print(get_random_letter())"
   ]
  },
  {
   "cell_type": "code",
   "execution_count": 14,
   "metadata": {},
   "outputs": [
    {
     "name": "stdout",
     "output_type": "stream",
     "text": [
      "ॹ ॽ ऱ ै ॓ ि ॢ ॸ ँ ङ "
     ]
    }
   ],
   "source": [
    "for i in range(10):\n",
    "    print(get_random_letter(), end=\" \")"
   ]
  },
  {
   "cell_type": "code",
   "execution_count": 19,
   "metadata": {},
   "outputs": [],
   "source": [
    "def get_random_chinese_letter():\n",
    "    import random\n",
    "    code = random.randint(0x4e00, 0x9fff) # hexadecimals\n",
    "    return chr(code)"
   ]
  },
  {
   "cell_type": "code",
   "execution_count": 22,
   "metadata": {},
   "outputs": [
    {
     "name": "stdout",
     "output_type": "stream",
     "text": [
      "亇 鵮 異 算 緒 耮 傑 虞 屗 第 "
     ]
    }
   ],
   "source": [
    "for i in range(10):\n",
    "    print(get_random_chinese_letter(), end=\" \")"
   ]
  },
  {
   "cell_type": "code",
   "execution_count": 26,
   "metadata": {},
   "outputs": [
    {
     "data": {
      "text/plain": [
       "'尅 yeh string hai!!'"
      ]
     },
     "execution_count": 26,
     "metadata": {},
     "output_type": "execute_result"
    }
   ],
   "source": [
    "get_random_chinese_letter()+ \" yeh string hai!!\""
   ]
  },
  {
   "cell_type": "code",
   "execution_count": 27,
   "metadata": {},
   "outputs": [
    {
     "data": {
      "text/plain": [
       "'逶逶逶逶逶'"
      ]
     },
     "execution_count": 27,
     "metadata": {},
     "output_type": "execute_result"
    }
   ],
   "source": [
    "get_random_chinese_letter()*5 # function mein aage kuch bhi add karke print kar sakte hai"
   ]
  },
  {
   "cell_type": "code",
   "execution_count": 28,
   "metadata": {},
   "outputs": [],
   "source": [
    "def simple_interest(p, r, t): # p,r,t required parameter \n",
    "    return p*r*t/100"
   ]
  },
  {
   "cell_type": "code",
   "execution_count": 30,
   "metadata": {},
   "outputs": [
    {
     "name": "stdout",
     "output_type": "stream",
     "text": [
      "34560.0\n"
     ]
    }
   ],
   "source": [
    "ans= simple_interest(12000, 12, 24)\n",
    "print(ans)"
   ]
  },
  {
   "cell_type": "code",
   "execution_count": 33,
   "metadata": {},
   "outputs": [
    {
     "data": {
      "text/plain": [
       "10800.0"
      ]
     },
     "execution_count": 33,
     "metadata": {},
     "output_type": "execute_result"
    }
   ],
   "source": [
    "simple_interest(p=15000,r=6,t=12) \n"
   ]
  },
  {
   "cell_type": "code",
   "execution_count": 34,
   "metadata": {},
   "outputs": [
    {
     "data": {
      "text/plain": [
       "3600.0"
      ]
     },
     "execution_count": 34,
     "metadata": {},
     "output_type": "execute_result"
    }
   ],
   "source": [
    "simple_interest(r=15,t=2,p=12000)"
   ]
  },
  {
   "cell_type": "code",
   "execution_count": null,
   "metadata": {},
   "outputs": [],
   "source": []
  }
 ],
 "metadata": {
  "kernelspec": {
   "display_name": "base",
   "language": "python",
   "name": "python3"
  },
  "language_info": {
   "codemirror_mode": {
    "name": "ipython",
    "version": 3
   },
   "file_extension": ".py",
   "mimetype": "text/x-python",
   "name": "python",
   "nbconvert_exporter": "python",
   "pygments_lexer": "ipython3",
   "version": "3.11.4"
  }
 },
 "nbformat": 4,
 "nbformat_minor": 2
}
