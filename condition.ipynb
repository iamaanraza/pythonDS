{
 "cells": [
  {
   "cell_type": "markdown",
   "metadata": {},
   "source": [
    "Conditions \n",
    "- if condition\n",
    "- if - else condition \n",
    "- if - elif - else condition \n",
    "- nested \n",
    "- match \n",
    "\n",
    "conditional operators and logical operators \n",
    "`>, <, >=, <=, ==, != `\n",
    "`and or not`"
   ]
  },
  {
   "cell_type": "code",
   "execution_count": 3,
   "metadata": {},
   "outputs": [
    {
     "name": "stdout",
     "output_type": "stream",
     "text": [
      "yes\n"
     ]
    }
   ],
   "source": [
    "x = 10 \n",
    "if x > 5:\n",
    "    print('yes')\n",
    "   \n"
   ]
  },
  {
   "cell_type": "code",
   "execution_count": 2,
   "metadata": {},
   "outputs": [
    {
     "name": "stdout",
     "output_type": "stream",
     "text": [
      "end\n"
     ]
    }
   ],
   "source": [
    "x = -10 \n",
    "if x > 5:\n",
    "    print('yes')\n",
    "print('end')    "
   ]
  },
  {
   "cell_type": "code",
   "execution_count": 5,
   "metadata": {},
   "outputs": [
    {
     "name": "stdout",
     "output_type": "stream",
     "text": [
      "600.0\n"
     ]
    }
   ],
   "source": [
    "p=int(input(\"enter p amt.:\"))  #simple interest \n",
    "r=int(input(\"enter r amt.:\"))\n",
    "t=int(input(\"enter t:\"))\n",
    "s=p*r*t/100\n",
    "print(s)"
   ]
  },
  {
   "cell_type": "code",
   "execution_count": 6,
   "metadata": {},
   "outputs": [
    {
     "name": "stdout",
     "output_type": "stream",
     "text": [
      "simple interest:1500.0\n"
     ]
    }
   ],
   "source": [
    "p=int(input(\"enter p amt.:\"))\n",
    "t=int(input(\"enter t:\"))\n",
    "if p >= 15000:\n",
    "    r = 4\n",
    "else:\n",
    "    r = 3\n",
    "s = p * r * t /100\n",
    "print(f'simple interest:{s}')        "
   ]
  },
  {
   "cell_type": "code",
   "execution_count": 7,
   "metadata": {},
   "outputs": [
    {
     "name": "stdout",
     "output_type": "stream",
     "text": [
      "X is greater than 20\n",
      "X is greater than -20\n"
     ]
    }
   ],
   "source": [
    "x = 100\n",
    "if x > 20:\n",
    "    print(\"X is greater than 20\")\n",
    "if x > -20:\n",
    "    print(\"X is greater than -20\")\n",
    "if x < 0:\n",
    "    print(\"X is less than 0\")       "
   ]
  },
  {
   "cell_type": "code",
   "execution_count": 9,
   "metadata": {},
   "outputs": [
    {
     "name": "stdout",
     "output_type": "stream",
     "text": [
      "a+b is greater than 0\n"
     ]
    }
   ],
   "source": [
    "# if elif (related conditions) (conditional ladder)\n",
    "a, b = 2, 3\n",
    "if a + b >10:\n",
    "    print(\"a + b is greater than 10\")\n",
    "elif a + b > 5:\n",
    "    print(\"a +b is greater than 5\")\n",
    "elif a+b >0:\n",
    "    print(\"a+b is greater than 0\")\n",
    "elif a> 10:\n",
    "    print(\"a is greater than 10\")        \n"
   ]
  },
  {
   "cell_type": "markdown",
   "metadata": {},
   "source": [
    "wap to cal total salary of employee based on following conditions \n",
    "- bs is gt 25000, hra = 30% , da = 95% of bs\n",
    "- bs is gt 20000, hra = 25% , da = 90% of bs\n",
    "- bs is gt 15000, hra = 20% , da = 85% of bs "
   ]
  },
  {
   "cell_type": "code",
   "execution_count": 13,
   "metadata": {},
   "outputs": [
    {
     "name": "stdout",
     "output_type": "stream",
     "text": [
      "Total salary:41000.0\n"
     ]
    }
   ],
   "source": [
    "bs=int(input(\" enter bs :\"))\n",
    "if bs > 25000:\n",
    "    hra = bs * .3\n",
    "    da = bs * .95\n",
    "elif bs > 20000:\n",
    "    hra = bs * .25\n",
    "    da = bs * .9\n",
    "elif bs > 15000:\n",
    "    hra = bs * .2\n",
    "    da = bs * .85\n",
    "else:\n",
    "    hra , da = 0, 0 \n",
    "total = bs + hra + da \n",
    "print(f'Total salary:{total}')        \n"
   ]
  },
  {
   "cell_type": "code",
   "execution_count": 16,
   "metadata": {},
   "outputs": [
    {
     "name": "stdout",
     "output_type": "stream",
     "text": [
      "you are the caterers\n"
     ]
    }
   ],
   "source": [
    "# match case\n",
    "name = input(\"enter your name :\")\n",
    "match (name):\n",
    "    case \" ajay\":\n",
    "        print(\"Welcome mr. Ajay\")\n",
    "    case \"vijay\" | \"anuj\":\n",
    "        print(\"you are the caterers\")\n",
    "    case \"rahul\":\n",
    "        print(\"you are the manager\")\n",
    "    case \"ashish\":\n",
    "        print(\"you are not allowed\")\n",
    "    case _:\n",
    "        print(\"i don't know you\")                "
   ]
  },
  {
   "cell_type": "markdown",
   "metadata": {},
   "source": [
    "nested if's :\n",
    " if condition \n",
    "   if condition \n",
    "      if condition \n",
    "      "
   ]
  },
  {
   "cell_type": "code",
   "execution_count": 23,
   "metadata": {},
   "outputs": [
    {
     "name": "stdout",
     "output_type": "stream",
     "text": [
      "Invalid password\n"
     ]
    }
   ],
   "source": [
    "username = input(\"enter your username\")\n",
    "password = input(\"enter your password\")\n",
    "\n",
    "if len(username) > 0:\n",
    "    if len(password) > 0:\n",
    "        if username == 'amaan':\n",
    "            if password == 'admin':\n",
    "                print(\"Welcome Amaan\")\n",
    "            else :\n",
    "                print(\"Invalid password\")\n",
    "        else:\n",
    "            print(\"Invalid username\")\n",
    "    else:\n",
    "        print(\"password required\")\n",
    "else:\n",
    "    print(\"username is required\")                            "
   ]
  },
  {
   "cell_type": "markdown",
   "metadata": {},
   "source": [
    "ternary conditional operator\n",
    "\n",
    "<expr1> if <condition>else<expr2>"
   ]
  },
  {
   "cell_type": "code",
   "execution_count": 26,
   "metadata": {},
   "outputs": [
    {
     "name": "stdout",
     "output_type": "stream",
     "text": [
      "name ok\n"
     ]
    }
   ],
   "source": [
    "name = input(\"enter your name:\")\n",
    "print(\"name is too big\" if len(name)> 10 else\"name ok\")"
   ]
  },
  {
   "cell_type": "code",
   "execution_count": 24,
   "metadata": {},
   "outputs": [
    {
     "name": "stdout",
     "output_type": "stream",
     "text": [
      "name is ok\n"
     ]
    }
   ],
   "source": [
    "if len(name)>10:\n",
    "    print(\"name is too big\")\n",
    "else:\n",
    "    print(\"name is ok\")    \n"
   ]
  },
  {
   "cell_type": "code",
   "execution_count": 27,
   "metadata": {},
   "outputs": [
    {
     "data": {
      "text/plain": [
       "'even'"
      ]
     },
     "execution_count": 27,
     "metadata": {},
     "output_type": "execute_result"
    }
   ],
   "source": [
    "x = 100 \n",
    "\"even\" if x % 2 == 0 else \"odd\""
   ]
  },
  {
   "cell_type": "code",
   "execution_count": null,
   "metadata": {},
   "outputs": [],
   "source": []
  }
 ],
 "metadata": {
  "kernelspec": {
   "display_name": "base",
   "language": "python",
   "name": "python3"
  },
  "language_info": {
   "codemirror_mode": {
    "name": "ipython",
    "version": 3
   },
   "file_extension": ".py",
   "mimetype": "text/x-python",
   "name": "python",
   "nbconvert_exporter": "python",
   "pygments_lexer": "ipython3",
   "version": "3.11.4"
  },
  "orig_nbformat": 4
 },
 "nbformat": 4,
 "nbformat_minor": 2
}
