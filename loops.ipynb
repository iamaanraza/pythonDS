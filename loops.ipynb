{
 "cells": [
  {
   "cell_type": "markdown",
   "metadata": {},
   "source": [
    "loops tyoe s\n",
    "- for (step baaed loop)\n",
    "  - repeating a step n no. of times\n",
    "  - enumeration\n",
    "  - tarversing iterables\n",
    "\n",
    "- while (condition based loop)"
   ]
  },
  {
   "cell_type": "code",
   "execution_count": 1,
   "metadata": {},
   "outputs": [
    {
     "data": {
      "text/plain": [
       "range(1, 20)"
      ]
     },
     "execution_count": 1,
     "metadata": {},
     "output_type": "execute_result"
    }
   ],
   "source": [
    "range(1, 20) # its stores in memory location "
   ]
  },
  {
   "cell_type": "markdown",
   "metadata": {},
   "source": [
    "for var in iterables:\n",
    "    statements"
   ]
  },
  {
   "cell_type": "code",
   "execution_count": 2,
   "metadata": {},
   "outputs": [
    {
     "name": "stdout",
     "output_type": "stream",
     "text": [
      "0 1 2 3 4 5 6 7 8 9 "
     ]
    }
   ],
   "source": [
    "for item in range(10):\n",
    "    print(item, end=' ')"
   ]
  },
  {
   "cell_type": "code",
   "execution_count": 3,
   "metadata": {},
   "outputs": [
    {
     "name": "stdout",
     "output_type": "stream",
     "text": [
      "-10 -9 -8 -7 -6 -5 -4 -3 -2 -1 0 1 2 3 4 5 6 7 8 9 "
     ]
    }
   ],
   "source": [
    "for i in range(-10, 10):\n",
    "    print(i,end=' ')"
   ]
  },
  {
   "cell_type": "code",
   "execution_count": 5,
   "metadata": {},
   "outputs": [
    {
     "name": "stdout",
     "output_type": "stream",
     "text": [
      "-10 -8 -6 -4 -2 0 2 4 6 8 10 "
     ]
    }
   ],
   "source": [
    "for i in range(-10, 11, 2): #step or gap b/w no's.\n",
    "    print(i,end=' ')"
   ]
  },
  {
   "cell_type": "code",
   "execution_count": 6,
   "metadata": {},
   "outputs": [
    {
     "name": "stdout",
     "output_type": "stream",
     "text": [
      "15 14 13 12 11 10 9 8 7 6 5 4 3 2 1 "
     ]
    }
   ],
   "source": [
    "for i in range(15, 0, -1):\n",
    "    print(i, end=' ')"
   ]
  },
  {
   "cell_type": "code",
   "execution_count": 7,
   "metadata": {},
   "outputs": [
    {
     "name": "stdout",
     "output_type": "stream",
     "text": [
      "2 4 6 8 10 12 14 16 18 20 22 24 26 28 30 32 34 36 38 40 42 44 46 48 50 52 54 56 58 60 62 64 66 68 70 72 74 76 78 80 82 84 86 88 90 92 94 96 98 100 "
     ]
    }
   ],
   "source": [
    "for i in range(2, 102, 2):\n",
    "    print(i, end=' ')"
   ]
  },
  {
   "cell_type": "code",
   "execution_count": 8,
   "metadata": {},
   "outputs": [
    {
     "name": "stdout",
     "output_type": "stream",
     "text": [
      "Hello\n",
      "Hello\n",
      "Hello\n",
      "Hello\n",
      "Hello\n"
     ]
    }
   ],
   "source": [
    "for _ in range(5): # _ garbage variable \n",
    "    print(\"Hello\")\n"
   ]
  },
  {
   "cell_type": "code",
   "execution_count": 9,
   "metadata": {},
   "outputs": [],
   "source": [
    "# traversing iterables \n",
    "name= \"Albert Silvador\"\n",
    "words= ['hi', 'hello','aloha','hola'] #list\n",
    "colours= ('red','green', 'blue') #tuple\n",
    "numbers= {1,2,5,6,7,23,12,21,25} #set\n"
   ]
  },
  {
   "cell_type": "code",
   "execution_count": 10,
   "metadata": {},
   "outputs": [
    {
     "name": "stdout",
     "output_type": "stream",
     "text": [
      "A l b e r t   S i l v a d o r \n",
      "hi hello aloha hola \n",
      "red green blue \n",
      "1 2 5 6 7 12 21 23 25 "
     ]
    }
   ],
   "source": [
    "for char in name:\n",
    "    print(char, end=' ')\n",
    "print()\n",
    "for word in words:\n",
    "    print(word, end=' ')\n",
    "print()\n",
    "for c in colours:\n",
    "    print(c, end=' ')\n",
    "print()\n",
    "for i in numbers:\n",
    "    print(i, end=' ')            "
   ]
  },
  {
   "cell_type": "code",
   "execution_count": 12,
   "metadata": {},
   "outputs": [
    {
     "name": "stdout",
     "output_type": "stream",
     "text": [
      "0 Harsh\n",
      "1 Nishant\n",
      "2 Amaan\n",
      "3 kratagya\n",
      "4 Ayush\n",
      "5 Natasha\n",
      "6 Mahek\n",
      "7 Akash\n",
      "8 Krishna\n"
     ]
    }
   ],
   "source": [
    "names=['Harsh','Nishant','Amaan','kratagya','Ayush','Natasha','Mahek','Akash','Krishna']\n",
    "for idx,val in enumerate(names):\n",
    "    print(idx, val)"
   ]
  },
  {
   "cell_type": "code",
   "execution_count": 14,
   "metadata": {},
   "outputs": [
    {
     "name": "stdout",
     "output_type": "stream",
     "text": [
      "Harsh Srivastava\n",
      "Nishant Shukla\n",
      "Amaan Raza\n",
      "kratagya Jaiswal\n",
      "Ayush Singh\n",
      "Natasha kanuajia\n",
      "Mahek singhal\n",
      "Akash Gupta\n",
      "Krishna Agarwal\n"
     ]
    }
   ],
   "source": [
    "#zipping \n",
    "surnames=['Srivastava','Shukla','Raza','Jaiswal','Singh','kanuajia','singhal','Gupta','Agarwal']\n",
    "\n",
    "for fname, lname in zip(names, surnames):\n",
    "    print(fname, lname)"
   ]
  },
  {
   "cell_type": "code",
   "execution_count": 15,
   "metadata": {},
   "outputs": [
    {
     "name": "stdout",
     "output_type": "stream",
     "text": [
      "1 2 3 4 5 6 7 "
     ]
    }
   ],
   "source": [
    "x =[1,2,3,0,4,5,0,6,0,7]\n",
    "for i in x:\n",
    "    if i == 0:\n",
    "        continue\n",
    "    print(i,end=' ')"
   ]
  },
  {
   "cell_type": "code",
   "execution_count": 18,
   "metadata": {},
   "outputs": [
    {
     "name": "stdout",
     "output_type": "stream",
     "text": [
      "1 2 3 0 4 "
     ]
    }
   ],
   "source": [
    "for i in x:\n",
    "    if i == 0:\n",
    "        break\n",
    "    print(i, end=' ')"
   ]
  },
  {
   "cell_type": "code",
   "execution_count": 19,
   "metadata": {},
   "outputs": [],
   "source": [
    "x=[]\n",
    "for i in x:\n",
    "    print(i, end=' ')"
   ]
  },
  {
   "cell_type": "code",
   "execution_count": 26,
   "metadata": {},
   "outputs": [
    {
     "name": "stdout",
     "output_type": "stream",
     "text": [
      "hello dgwefyuwjgwsdu\n",
      "hello sdgewyvf\n",
      "hello gsayef\n",
      "hello gysef\n",
      "hello guu\\gfb\n",
      "Well Done 😘\n"
     ]
    }
   ],
   "source": [
    "# for-else\n",
    "\n",
    "for i in range(5):\n",
    "    name = input(\"enter name of person\")\n",
    "    if name:\n",
    "        print(f'hello {name}')\n",
    "    else:\n",
    "        break\n",
    "else:\n",
    "     print(\"Well Done 😘\")"
   ]
  },
  {
   "cell_type": "code",
   "execution_count": 30,
   "metadata": {},
   "outputs": [
    {
     "name": "stdout",
     "output_type": "stream",
     "text": [
      "0 10 20 30 40 50 60 70 80 90 "
     ]
    }
   ],
   "source": [
    "\n",
    "# while loop\n",
    "\n",
    "n=0\n",
    "while n < 100:\n",
    "    print(n, end=' ')\n",
    "    n += 10\n",
    "\n"
   ]
  },
  {
   "cell_type": "code",
   "execution_count": 32,
   "metadata": {},
   "outputs": [
    {
     "name": "stdout",
     "output_type": "stream",
     "text": [
      "❌12❌\n"
     ]
    }
   ],
   "source": [
    "#infinite loop controllred by user\n",
    "\n",
    "while True:\n",
    "    num = int(input(\"Enter a no.greater than 100: \"))\n",
    "    if num > 100:\n",
    "        print(f'{num}✅')\n",
    "    else:\n",
    "        print(f\"❌{num}❌\")\n",
    "        break\n"
   ]
  },
  {
   "cell_type": "code",
   "execution_count": null,
   "metadata": {},
   "outputs": [],
   "source": [
    "\n"
   ]
  }
 ],
 "metadata": {
  "kernelspec": {
   "display_name": "base",
   "language": "python",
   "name": "python3"
  },
  "language_info": {
   "codemirror_mode": {
    "name": "ipython",
    "version": 3
   },
   "file_extension": ".py",
   "mimetype": "text/x-python",
   "name": "python",
   "nbconvert_exporter": "python",
   "pygments_lexer": "ipython3",
   "version": "3.11.4"
  }
 },
 "nbformat": 4,
 "nbformat_minor": 2
}
