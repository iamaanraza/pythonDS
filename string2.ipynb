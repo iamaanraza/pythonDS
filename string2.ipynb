{
 "cells": [
  {
   "cell_type": "markdown",
   "metadata": {},
   "source": [
    "Strings operations :\n",
    "- find : tells the index of input \n",
    "- replace\n",
    "- split\n",
    "- join\n",
    "- strip\n",
    "- count\n",
    "- remove prefix \n",
    "- remove suffix "
   ]
  },
  {
   "cell_type": "code",
   "execution_count": 1,
   "metadata": {},
   "outputs": [],
   "source": [
    "msg = \"a very normal message in a very normal world\""
   ]
  },
  {
   "cell_type": "code",
   "execution_count": 4,
   "metadata": {},
   "outputs": [
    {
     "name": "stdout",
     "output_type": "stream",
     "text": [
      "14\n",
      "7\n",
      "32\n"
     ]
    }
   ],
   "source": [
    "print(msg.find('message')) # tells the index \n",
    "print(msg.find('normal'))\n",
    "print(msg.rfind('normal'))"
   ]
  },
  {
   "cell_type": "code",
   "execution_count": 7,
   "metadata": {},
   "outputs": [
    {
     "name": "stdout",
     "output_type": "stream",
     "text": [
      "-1\n",
      "32\n"
     ]
    }
   ],
   "source": [
    "print(msg.find('mor'))\n",
    "print(msg.find('normal',8))"
   ]
  },
  {
   "cell_type": "code",
   "execution_count": 8,
   "metadata": {},
   "outputs": [
    {
     "name": "stdout",
     "output_type": "stream",
     "text": [
      "-1\n"
     ]
    }
   ],
   "source": [
    "print(msg.find('in', 0, 15))"
   ]
  },
  {
   "cell_type": "code",
   "execution_count": 13,
   "metadata": {},
   "outputs": [
    {
     "name": "stdout",
     "output_type": "stream",
     "text": [
      "a very urgent message in a very urgent world\n",
      "apple very normapplel messapplege in apple very normapplel world\n",
      "a very urgent message in a very normal world\n"
     ]
    }
   ],
   "source": [
    "print(msg.replace('normal','urgent'))\n",
    "print(msg.replace('a','apple'))\n",
    "print(msg.replace('normal','urgent',1))"
   ]
  },
  {
   "cell_type": "code",
   "execution_count": 14,
   "metadata": {},
   "outputs": [
    {
     "data": {
      "text/plain": [
       "'a very normal message in a very urgent world'"
      ]
     },
     "execution_count": 14,
     "metadata": {},
     "output_type": "execute_result"
    }
   ],
   "source": [
    "msg[:15]+msg[15:].replace('normal', 'urgent')"
   ]
  },
  {
   "cell_type": "code",
   "execution_count": 16,
   "metadata": {},
   "outputs": [
    {
     "data": {
      "text/plain": [
       "'A Very Urgent Message In A Very Crowded City'"
      ]
     },
     "execution_count": 16,
     "metadata": {},
     "output_type": "execute_result"
    }
   ],
   "source": [
    "msg.replace('normal','urgent',1).replace('world', 'city').replace('normal','crowded').title()"
   ]
  },
  {
   "cell_type": "code",
   "execution_count": 17,
   "metadata": {},
   "outputs": [
    {
     "data": {
      "text/plain": [
       "['a', 'very', 'normal', 'message', 'in', 'a', 'very', 'normal', 'world']"
      ]
     },
     "execution_count": 17,
     "metadata": {},
     "output_type": "execute_result"
    }
   ],
   "source": [
    "msg.split() #convert into list"
   ]
  },
  {
   "cell_type": "code",
   "execution_count": 18,
   "metadata": {},
   "outputs": [
    {
     "name": "stdout",
     "output_type": "stream",
     "text": [
      "['a', ' ', 'v', 'e', 'r', 'y', ' ', 'n', 'o', 'r', 'm', 'a', 'l', ' ', 'm', 'e', 's', 's', 'a', 'g', 'e', ' ', 'i', 'n', ' ', 'a', ' ', 'v', 'e', 'r', 'y', ' ', 'n', 'o', 'r', 'm', 'a', 'l', ' ', 'w', 'o', 'r', 'l', 'd']\n"
     ]
    }
   ],
   "source": [
    "print(list(msg)) # exlpicit type conversion"
   ]
  },
  {
   "cell_type": "code",
   "execution_count": 20,
   "metadata": {},
   "outputs": [
    {
     "data": {
      "text/plain": [
       "['a very normal message ', ' a very normal world']"
      ]
     },
     "execution_count": 20,
     "metadata": {},
     "output_type": "execute_result"
    }
   ],
   "source": [
    "msg.split('in')"
   ]
  },
  {
   "cell_type": "code",
   "execution_count": 6,
   "metadata": {},
   "outputs": [],
   "source": [
    "bmsg ='''this is \n",
    "an example\n",
    "string with some,\n",
    "content in each \n",
    "line of the message '''"
   ]
  },
  {
   "cell_type": "code",
   "execution_count": 7,
   "metadata": {},
   "outputs": [
    {
     "name": "stdout",
     "output_type": "stream",
     "text": [
      "['this', 'is', 'an', 'example', 'string', 'with', 'some,', 'content', 'in', 'each', 'line', 'of', 'the', 'message']\n",
      "['this is ', 'an example', 'string with some,', 'content in each ', 'line of the message ']\n",
      "['this is ', 'an example', 'string with some,', 'content in each ', 'line of the message ']\n",
      "['this is \\nan example\\nstring with some', '\\ncontent in each \\nline of the message ']\n",
      "['this', 'is', 'an', 'example\\nstring with some,\\ncontent in each \\nline of the message ']\n"
     ]
    }
   ],
   "source": [
    "print(bmsg.split())\n",
    "print(bmsg.splitlines())\n",
    "print(bmsg.split('\\n'))\n",
    "print(bmsg.split(','))\n",
    "print(bmsg.split(maxsplit=3))\n",
    "\n"
   ]
  },
  {
   "cell_type": "code",
   "execution_count": 8,
   "metadata": {},
   "outputs": [],
   "source": [
    "path = [\"C:\",'users','lenovo','documnets','secretfile.txt']"
   ]
  },
  {
   "cell_type": "code",
   "execution_count": 9,
   "metadata": {},
   "outputs": [
    {
     "name": "stdout",
     "output_type": "stream",
     "text": [
      "C:_users_lenovo_documnets_secretfile.txt\n",
      "C:/users/lenovo/documnets/secretfile.txt\n",
      "C:-users-lenovo-documnets-secretfile.txt\n"
     ]
    },
    {
     "data": {
      "text/plain": [
       "'C:/users/lenovo/documnets/secretfile.txt'"
      ]
     },
     "execution_count": 9,
     "metadata": {},
     "output_type": "execute_result"
    }
   ],
   "source": [
    "print(\"_\".join(path))\n",
    "print(\"/\".join(path))\n",
    "print(\"-\".join(path))\n",
    "gs = '-x-'\n",
    "gs.join(path)\n",
    "gs = '/'\n",
    "gs.join(path)"
   ]
  },
  {
   "cell_type": "code",
   "execution_count": 33,
   "metadata": {},
   "outputs": [
    {
     "data": {
      "text/plain": [
       "'world normal very a in message normal very a'"
      ]
     },
     "execution_count": 33,
     "metadata": {},
     "output_type": "execute_result"
    }
   ],
   "source": [
    "\" \".join(msg.split()[::-1])# reverse the sequence words in a string"
   ]
  },
  {
   "cell_type": "code",
   "execution_count": 39,
   "metadata": {},
   "outputs": [
    {
     "name": "stdout",
     "output_type": "stream",
     "text": [
      "a very normal message in a very normal world\n",
      "['a', 'very', 'normal', 'message', 'in', 'a', 'very', 'normal', 'world']\n",
      "['world', 'normal', 'very', 'a', 'in', 'message', 'normal', 'very', 'a']\n"
     ]
    },
    {
     "ename": "TypeError",
     "evalue": "'builtin_function_or_method' object is not subscriptable",
     "output_type": "error",
     "traceback": [
      "\u001b[1;31m---------------------------------------------------------------------------\u001b[0m",
      "\u001b[1;31mTypeError\u001b[0m                                 Traceback (most recent call last)",
      "\u001b[1;32mc:\\Users\\user\\Documents\\pythonDS\\string2.ipynb Cell 17\u001b[0m line \u001b[0;36m4\n\u001b[0;32m      <a href='vscode-notebook-cell:/c%3A/Users/user/Documents/pythonDS/string2.ipynb#X22sZmlsZQ%3D%3D?line=1'>2</a>\u001b[0m \u001b[39mprint\u001b[39m(msg\u001b[39m.\u001b[39msplit())\n\u001b[0;32m      <a href='vscode-notebook-cell:/c%3A/Users/user/Documents/pythonDS/string2.ipynb#X22sZmlsZQ%3D%3D?line=2'>3</a>\u001b[0m \u001b[39mprint\u001b[39m(msg\u001b[39m.\u001b[39msplit()[::\u001b[39m-\u001b[39m\u001b[39m1\u001b[39m])\n\u001b[1;32m----> <a href='vscode-notebook-cell:/c%3A/Users/user/Documents/pythonDS/string2.ipynb#X22sZmlsZQ%3D%3D?line=3'>4</a>\u001b[0m \u001b[39mprint\u001b[39m(\u001b[39m\"\u001b[39m\u001b[39m \u001b[39m\u001b[39m\"\u001b[39m\u001b[39m.\u001b[39mjoin(msg\u001b[39m.\u001b[39msplit[::\u001b[39m-\u001b[39m\u001b[39m1\u001b[39m]))\n",
      "\u001b[1;31mTypeError\u001b[0m: 'builtin_function_or_method' object is not subscriptable"
     ]
    }
   ],
   "source": [
    "print(msg)\n",
    "print(msg.split())\n",
    "print(msg.split()[::-1])\n",
    "print(\" \".join(msg.split[::-1]))"
   ]
  },
  {
   "cell_type": "code",
   "execution_count": 38,
   "metadata": {},
   "outputs": [
    {
     "name": "stdout",
     "output_type": "stream",
     "text": [
      "5\n",
      "2\n",
      "0\n",
      "2\n"
     ]
    }
   ],
   "source": [
    "print(msg.count('a'))\n",
    "print(msg.count('very'))\n",
    "print(msg.count('hello'))\n",
    "print(msg.count('very normal'))"
   ]
  },
  {
   "cell_type": "code",
   "execution_count": 11,
   "metadata": {},
   "outputs": [
    {
     "name": "stdout",
     "output_type": "stream",
     "text": [
      "17\n",
      "11\n"
     ]
    }
   ],
   "source": [
    "kachra = \"   hello world   \" # cleans the extra spaces .\n",
    "cleaned_s = kachra.strip()\n",
    "print(len(kachra))\n",
    "print(len(cleaned_s))"
   ]
  },
  {
   "cell_type": "code",
   "execution_count": 12,
   "metadata": {},
   "outputs": [
    {
     "name": "stdout",
     "output_type": "stream",
     "text": [
      "28\n",
      "my content here\n",
      "15\n"
     ]
    }
   ],
   "source": [
    "a = '''\n",
    "\n",
    "    my content here\n",
    "\n",
    "\n",
    "    '''\n",
    "print(len(a))\n",
    "print(a.strip())\n",
    "print(len(a.strip())) #delets the access spaces\n"
   ]
  },
  {
   "cell_type": "code",
   "execution_count": 13,
   "metadata": {},
   "outputs": [
    {
     "name": "stdout",
     "output_type": "stream",
     "text": [
      "28\n",
      "my content here\n",
      "15\n"
     ]
    }
   ],
   "source": [
    "word = '!!!!!!!content!!!!!!'\n",
    "print(len(a))\n",
    "print(a.strip()) # removes the access !!\n",
    "print(len(a.strip()))"
   ]
  },
  {
   "cell_type": "code",
   "execution_count": 43,
   "metadata": {},
   "outputs": [
    {
     "name": "stdout",
     "output_type": "stream",
     "text": [
      "content!!!!!!\n",
      "!!!!!!!content\n",
      "content\n"
     ]
    }
   ],
   "source": [
    "word = '!!!!!!!content!!!!!!'\n",
    "print(word.lstrip('!'))\n",
    "print(word.rstrip('!'))\n",
    "print(word.strip('!'))"
   ]
  },
  {
   "cell_type": "code",
   "execution_count": 46,
   "metadata": {},
   "outputs": [
    {
     "name": "stdout",
     "output_type": "stream",
     "text": [
      "Suess Dr.\n",
      "Dr. Suess \n"
     ]
    }
   ],
   "source": [
    "name = \"Dr. Suess Dr.\"\n",
    "print(name.removeprefix('Dr. '))\n",
    "print(name.removesuffix('Dr.'))"
   ]
  },
  {
   "cell_type": "code",
   "execution_count": null,
   "metadata": {},
   "outputs": [],
   "source": []
  }
 ],
 "metadata": {
  "kernelspec": {
   "display_name": "base",
   "language": "python",
   "name": "python3"
  },
  "language_info": {
   "codemirror_mode": {
    "name": "ipython",
    "version": 3
   },
   "file_extension": ".py",
   "mimetype": "text/x-python",
   "name": "python",
   "nbconvert_exporter": "python",
   "pygments_lexer": "ipython3",
   "version": "3.11.4"
  }
 },
 "nbformat": 4,
 "nbformat_minor": 2
}
