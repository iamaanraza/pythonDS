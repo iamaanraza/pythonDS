{
 "cells": [
  {
   "cell_type": "code",
   "execution_count": 3,
   "metadata": {},
   "outputs": [],
   "source": [
    "import numpy as np\n"
   ]
  },
  {
   "cell_type": "code",
   "execution_count": 9,
   "metadata": {},
   "outputs": [
    {
     "name": "stdout",
     "output_type": "stream",
     "text": [
      "[ 0  1  2  3  4  5  6  7  8  9 10 11 12 13 14]\n",
      "[[ 0  1  2  3  4]\n",
      " [ 5  6  7  8  9]\n",
      " [10 11 12 13 14]]\n"
     ]
    }
   ],
   "source": [
    "# creating array using arange function.\n",
    "a = np.arange(15)   # single dimensional\n",
    "print(a) \n",
    "a = np.arange(15).reshape(3,5) # multi dimensional \n",
    "print(a)"
   ]
  },
  {
   "cell_type": "markdown",
   "metadata": {},
   "source": [
    "# Numpy array properties  "
   ]
  },
  {
   "cell_type": "code",
   "execution_count": 6,
   "metadata": {},
   "outputs": [
    {
     "data": {
      "text/plain": [
       "15"
      ]
     },
     "execution_count": 6,
     "metadata": {},
     "output_type": "execute_result"
    }
   ],
   "source": [
    "# size of array \n",
    "a.size"
   ]
  },
  {
   "cell_type": "code",
   "execution_count": 10,
   "metadata": {},
   "outputs": [
    {
     "name": "stdout",
     "output_type": "stream",
     "text": [
      "[1 2 3 4 5 7 8]\n"
     ]
    }
   ],
   "source": [
    "x = np.array([1,2,3,4,5,7,8])\n",
    "print(x)"
   ]
  },
  {
   "cell_type": "code",
   "execution_count": 17,
   "metadata": {},
   "outputs": [
    {
     "name": "stdout",
     "output_type": "stream",
     "text": [
      "[[1 2 3]\n",
      " [2 3 4]]\n"
     ]
    }
   ],
   "source": [
    "y = np.array([[1,2,3], [2,3,4]])\n",
    "print(y)"
   ]
  },
  {
   "cell_type": "code",
   "execution_count": 18,
   "metadata": {},
   "outputs": [
    {
     "name": "stdout",
     "output_type": "stream",
     "text": [
      "shape (7,)\n",
      "num of dimension 1\n",
      "type of data int32\n",
      "Y\n",
      "shape: (2, 3)\n",
      "num of dimension 2\n",
      "type of dimension int32\n"
     ]
    }
   ],
   "source": [
    "print('shape',x.shape)\n",
    "print('num of dimension',x.ndim)\n",
    "print('type of data',x.dtype)\n",
    "print('Y')\n",
    "print('shape:',y.shape)\n",
    "print('num of dimension',y.ndim)\n",
    "print('type of dimension',y.dtype)"
   ]
  },
  {
   "cell_type": "markdown",
   "metadata": {},
   "source": [
    "- arange \n",
    "- linspace \n",
    "- random.*\n",
    "- eye \n",
    "- ones \n",
    "- zeros"
   ]
  },
  {
   "cell_type": "code",
   "execution_count": 20,
   "metadata": {},
   "outputs": [],
   "source": [
    "np.set_printoptions(precision=4, suppress=True)"
   ]
  },
  {
   "cell_type": "code",
   "execution_count": 22,
   "metadata": {},
   "outputs": [
    {
     "name": "stdout",
     "output_type": "stream",
     "text": [
      "[-10.   -9.8  -9.6  -9.4  -9.2  -9.   -8.8  -8.6  -8.4  -8.2  -8.   -7.8\n",
      "  -7.6  -7.4  -7.2  -7.   -6.8  -6.6  -6.4  -6.2  -6.   -5.8  -5.6  -5.4\n",
      "  -5.2  -5.   -4.8  -4.6  -4.4  -4.2  -4.   -3.8  -3.6  -3.4  -3.2  -3.\n",
      "  -2.8  -2.6  -2.4  -2.2  -2.   -1.8  -1.6  -1.4  -1.2  -1.   -0.8  -0.6\n",
      "  -0.4  -0.2  -0.    0.2   0.4   0.6   0.8   1.    1.2   1.4   1.6   1.8\n",
      "   2.    2.2   2.4   2.6   2.8   3.    3.2   3.4   3.6   3.8   4.    4.2\n",
      "   4.4   4.6   4.8   5.    5.2   5.4   5.6   5.8   6.    6.2   6.4   6.6\n",
      "   6.8   7.    7.2   7.4   7.6   7.8   8.    8.2   8.4   8.6   8.8   9.\n",
      "   9.2   9.4   9.6   9.8]\n"
     ]
    }
   ],
   "source": [
    "a = np.arange(-10, 10, .2)\n",
    "print(a)"
   ]
  },
  {
   "cell_type": "code",
   "execution_count": 24,
   "metadata": {},
   "outputs": [
    {
     "name": "stdout",
     "output_type": "stream",
     "text": [
      "[0.     0.1111 0.2222 0.3333 0.4444 0.5556 0.6667 0.7778 0.8889 1.    ]\n"
     ]
    }
   ],
   "source": [
    "b = np.linspace(0, 1, 10)\n",
    "print(b)"
   ]
  },
  {
   "cell_type": "code",
   "execution_count": 25,
   "metadata": {},
   "outputs": [
    {
     "data": {
      "text/plain": [
       "array([[0.9092, 0.7847, 0.0358],\n",
       "       [0.3476, 0.5531, 0.657 ],\n",
       "       [0.5119, 0.3184, 0.7513]])"
      ]
     },
     "execution_count": 25,
     "metadata": {},
     "output_type": "execute_result"
    }
   ],
   "source": [
    "np.random.random((3,3)) # random values b/w zero to one.\n"
   ]
  },
  {
   "cell_type": "code",
   "execution_count": 26,
   "metadata": {},
   "outputs": [
    {
     "data": {
      "text/plain": [
       "array([[ 68, 756, 536],\n",
       "       [432, 459, 579],\n",
       "       [474, 388, 128]])"
      ]
     },
     "execution_count": 26,
     "metadata": {},
     "output_type": "execute_result"
    }
   ],
   "source": [
    "np.random.randint(1, 1000, (3,3)) # random values b/w start and end."
   ]
  },
  {
   "cell_type": "code",
   "execution_count": 33,
   "metadata": {},
   "outputs": [
    {
     "data": {
      "text/plain": [
       "array([[0, 0, 1],\n",
       "       [0, 1, 0],\n",
       "       [1, 0, 0]])"
      ]
     },
     "execution_count": 33,
     "metadata": {},
     "output_type": "execute_result"
    }
   ],
   "source": [
    "(np.eye(3, dtype=int)) # identity matrix \n",
    "np.rot90(np.eye(3, dtype=int)) # rot90 rotate "
   ]
  },
  {
   "cell_type": "code",
   "execution_count": 29,
   "metadata": {},
   "outputs": [
    {
     "data": {
      "text/plain": [
       "array([[1, 1, 1, 1, 1],\n",
       "       [1, 1, 1, 1, 1],\n",
       "       [1, 1, 1, 1, 1],\n",
       "       [1, 1, 1, 1, 1],\n",
       "       [1, 1, 1, 1, 1]])"
      ]
     },
     "execution_count": 29,
     "metadata": {},
     "output_type": "execute_result"
    }
   ],
   "source": [
    "np.ones((5,5), dtype=int)"
   ]
  },
  {
   "cell_type": "code",
   "execution_count": 30,
   "metadata": {},
   "outputs": [
    {
     "data": {
      "text/plain": [
       "array([[0, 0, 0, 0, 0],\n",
       "       [0, 0, 0, 0, 0],\n",
       "       [0, 0, 0, 0, 0],\n",
       "       [0, 0, 0, 0, 0],\n",
       "       [0, 0, 0, 0, 0]])"
      ]
     },
     "execution_count": 30,
     "metadata": {},
     "output_type": "execute_result"
    }
   ],
   "source": [
    "np.zeros((5,5), dtype=int)"
   ]
  },
  {
   "cell_type": "markdown",
   "metadata": {},
   "source": [
    "Operations\n",
    "- arthimatic \n",
    "- statistical\n",
    "- trigonometric\n",
    "- logical\n",
    "- slicing \n",
    "- filtering\n",
    "- sorting\n"
   ]
  },
  {
   "cell_type": "code",
   "execution_count": 36,
   "metadata": {},
   "outputs": [
    {
     "name": "stdout",
     "output_type": "stream",
     "text": [
      "[[14 22 23]\n",
      " [20  3 10]]\n",
      "[[ 3 18]\n",
      " [ 9  7]\n",
      " [20 19]]\n"
     ]
    }
   ],
   "source": [
    "x = np.random.randint(1, 25,(2,3))\n",
    "y = np.random.randint(1,25,(3,2))\n",
    "print(x)\n",
    "print(y)"
   ]
  },
  {
   "cell_type": "code",
   "execution_count": 37,
   "metadata": {},
   "outputs": [
    {
     "data": {
      "text/plain": [
       "array([[ 3,  9, 20],\n",
       "       [18,  7, 19]])"
      ]
     },
     "execution_count": 37,
     "metadata": {},
     "output_type": "execute_result"
    }
   ],
   "source": [
    "y.T"
   ]
  },
  {
   "cell_type": "code",
   "execution_count": 38,
   "metadata": {},
   "outputs": [
    {
     "name": "stdout",
     "output_type": "stream",
     "text": [
      "x+y tansposed\n",
      "[[17 31 43]\n",
      " [38 10 29]]\n",
      "x transposed + y\n",
      "[[17 38]\n",
      " [31 10]\n",
      " [43 29]]\n"
     ]
    }
   ],
   "source": [
    "print(\"x+y tansposed\")\n",
    "print(x + y.T)\n",
    "print(\"x transposed + y\")\n",
    "print(x.T + y)"
   ]
  },
  {
   "cell_type": "code",
   "execution_count": 39,
   "metadata": {},
   "outputs": [
    {
     "name": "stdout",
     "output_type": "stream",
     "text": [
      "matrix multiplication elementwise\n",
      "[[ 42 198 460]\n",
      " [360  21 190]]\n",
      "matrix multiplication\n",
      "[[700 843]\n",
      " [287 571]]\n"
     ]
    }
   ],
   "source": [
    "print(\"matrix multiplication elementwise\")\n",
    "print(x * y.T)\n",
    "print(\"matrix multiplication\")\n",
    "print(x @ y)"
   ]
  },
  {
   "cell_type": "code",
   "execution_count": 40,
   "metadata": {},
   "outputs": [
    {
     "data": {
      "text/plain": [
       "array([[14, 22, 23, 14, 22, 23, 14, 22, 23, 14, 22, 23, 14, 22, 23],\n",
       "       [20,  3, 10, 20,  3, 10, 20,  3, 10, 20,  3, 10, 20,  3, 10]])"
      ]
     },
     "execution_count": 40,
     "metadata": {},
     "output_type": "execute_result"
    }
   ],
   "source": [
    "np.hstack((x,x,x,x,x))"
   ]
  },
  {
   "cell_type": "code",
   "execution_count": 41,
   "metadata": {},
   "outputs": [
    {
     "data": {
      "text/plain": [
       "array([[14, 22, 23],\n",
       "       [20,  3, 10],\n",
       "       [14, 22, 23],\n",
       "       [20,  3, 10],\n",
       "       [ 3,  9, 20],\n",
       "       [18,  7, 19]])"
      ]
     },
     "execution_count": 41,
     "metadata": {},
     "output_type": "execute_result"
    }
   ],
   "source": [
    "np.vstack((x,x,y.T))"
   ]
  },
  {
   "cell_type": "code",
   "execution_count": 43,
   "metadata": {},
   "outputs": [
    {
     "name": "stdout",
     "output_type": "stream",
     "text": [
      "[[14 22 23]\n",
      " [20  3 10]]\n",
      "sum of all elemnets: 92\n",
      "sum of all elemnets row wise: [59 33]\n",
      "sum of all elemnets col wise: [34 25 33]\n",
      "average of all elemnets: 15.333333333333334\n",
      "median of all elemnets: 17.0\n",
      "min of all elemnets: 3\n",
      "max of all elemnets: 23\n",
      "std of all elemnets: 7.156970184527963\n",
      "variance of all elemnets: 51.22222222222222\n",
      "any item in non-zero: True\n",
      "all item in non-zero: True\n"
     ]
    }
   ],
   "source": [
    "print(x)\n",
    "print(\"sum of all elemnets:\",x.sum())\n",
    "print(\"sum of all elemnets row wise:\",x.sum(axis=1))\n",
    "print(\"sum of all elemnets col wise:\",x.sum(axis=0))\n",
    "print(\"average of all elemnets:\",x.mean())\n",
    "print(\"median of all elemnets:\",np.median(x))\n",
    "print(\"min of all elemnets:\",x.min())\n",
    "print(\"max of all elemnets:\",x.max())\n",
    "print(\"std of all elemnets:\",x.std())\n",
    "print(\"variance of all elemnets:\",x.var())\n",
    "print(\"any item in non-zero:\",x.any())\n",
    "print(\"all item in non-zero:\",x.all())"
   ]
  },
  {
   "cell_type": "code",
   "execution_count": 44,
   "metadata": {},
   "outputs": [
    {
     "name": "stdout",
     "output_type": "stream",
     "text": [
      "3.141592653589793\n",
      "nan\n",
      "inf\n",
      "2.718281828459045\n"
     ]
    }
   ],
   "source": [
    "print(np.pi)\n",
    "print(np.nan)\n",
    "print(np.inf)\n",
    "print(np.e)"
   ]
  },
  {
   "cell_type": "code",
   "execution_count": 45,
   "metadata": {},
   "outputs": [
    {
     "name": "stdout",
     "output_type": "stream",
     "text": [
      "[[ 0.9906 -0.0089 -0.8462]\n",
      " [ 0.9129  0.1411 -0.544 ]]\n",
      "[[ 0.1367 -1.     -0.5328]\n",
      " [ 0.4081 -0.99   -0.8391]]\n",
      "[[ 7.2446  0.0089  1.5882]\n",
      " [ 2.2372 -0.1425  0.6484]]\n"
     ]
    }
   ],
   "source": [
    "print(np.sin(x))\n",
    "print(np.cos(x))\n",
    "print(np.tan(x))"
   ]
  },
  {
   "cell_type": "code",
   "execution_count": null,
   "metadata": {},
   "outputs": [],
   "source": []
  }
 ],
 "metadata": {
  "kernelspec": {
   "display_name": "base",
   "language": "python",
   "name": "python3"
  },
  "language_info": {
   "codemirror_mode": {
    "name": "ipython",
    "version": 3
   },
   "file_extension": ".py",
   "mimetype": "text/x-python",
   "name": "python",
   "nbconvert_exporter": "python",
   "pygments_lexer": "ipython3",
   "version": "3.11.4"
  }
 },
 "nbformat": 4,
 "nbformat_minor": 2
}
